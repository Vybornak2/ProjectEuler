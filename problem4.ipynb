{
 "cells": [
  {
   "cell_type": "code",
   "execution_count": 66,
   "id": "7f32a973-f003-4968-b1fc-fab16bfb2eaa",
   "metadata": {},
   "outputs": [
    {
     "name": "stdout",
     "output_type": "stream",
     "text": [
      "i is:  993  k is:  913  and their product is: 906609\n"
     ]
    }
   ],
   "source": [
    "\"\"\"\n",
    "A palindromic number reads the same both ways. The largest palindrome made from the product of two 2-digit numbers is 9009 = 91 × 99.\n",
    "\n",
    "Find the largest palindrome made from the product of two 3-digit numbers.\n",
    "\"\"\"\n",
    "max=0\n",
    "is_same = False\n",
    "for i in range(999,100,-1):\n",
    "    for k in range(999,100,-1):\n",
    "        num = i*k\n",
    "        s_num=str(num)\n",
    "        l_s=len(s_num)\n",
    "        is_same = True\n",
    "        for l in range(0,l_s // 2):\n",
    "            if s_num[l] != s_num[-l-1]:\n",
    "                #print('not same', s_num[l], s_num[-l-1])\n",
    "                is_same = False\n",
    "                break\n",
    "            else:\n",
    "                is_same = True\n",
    "                #print('same', s_num[l], s_num[-l-1])\n",
    "        if num > max and is_same:\n",
    "            max = num\n",
    "            im=i\n",
    "            km=k\n",
    "        \n",
    "        \n",
    "print('i is: ', im, ' k is: ', km,' and their product is:', max)\n",
    "\n"
   ]
  },
  {
   "cell_type": "code",
   "execution_count": 54,
   "id": "53633147-dbde-4e39-b533-4c5434143ba6",
   "metadata": {},
   "outputs": [
    {
     "name": "stdout",
     "output_type": "stream",
     "text": [
      "9\n",
      "0\n"
     ]
    }
   ],
   "source": [
    "l=1\n",
    "print(s_num[l])\n",
    "print(s_num[-l-1])"
   ]
  },
  {
   "cell_type": "code",
   "execution_count": 42,
   "id": "1c06dee6-cc51-49ee-9f7d-671ef9c7b99a",
   "metadata": {},
   "outputs": [
    {
     "name": "stdout",
     "output_type": "stream",
     "text": [
      "9\n",
      "9\n"
     ]
    }
   ],
   "source": []
  },
  {
   "cell_type": "code",
   "execution_count": null,
   "id": "5fb1c8b4-8b97-4e8a-b59b-20a1cc9ee5fe",
   "metadata": {},
   "outputs": [],
   "source": []
  }
 ],
 "metadata": {
  "kernelspec": {
   "display_name": "Python 3 (ipykernel)",
   "language": "python",
   "name": "python3"
  },
  "language_info": {
   "codemirror_mode": {
    "name": "ipython",
    "version": 3
   },
   "file_extension": ".py",
   "mimetype": "text/x-python",
   "name": "python",
   "nbconvert_exporter": "python",
   "pygments_lexer": "ipython3",
   "version": "3.9.6"
  }
 },
 "nbformat": 4,
 "nbformat_minor": 5
}
