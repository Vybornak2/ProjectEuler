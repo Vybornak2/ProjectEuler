{
 "cells": [
  {
   "cell_type": "code",
   "execution_count": 4,
   "id": "14a7dd62-6123-4e70-ad80-d89126033093",
   "metadata": {},
   "outputs": [],
   "source": [
    "\"\"\"\n",
    "Starting in the top left corner of a 2×2 grid, and only being able to move to the right and down, there are exactly 6 routes to the bottom right corner.\n",
    "\n",
    "\n",
    "How many such routes are there through a 20×20 grid?\n",
    "\"\"\"\n",
    "\n",
    "import numpy as np\n",
    "\n",
    "mesh_size = 4\n",
    "A = np.zeros([mesh_size])\n",
    "A[0] = 1\n",
    "\n",
    "x = 0\n",
    "xi = 0\n",
    "for x in range(mesh_size+1):\n",
    "    Ai = A\n",
    "    A = np.zeros([mesh_size+1])\n",
    "    for xi in range(x):\n",
    "        if xi != x:\n",
    "            for xii in range(xi+1):\n",
    "                A[xi] += Ai[xii]\n",
    "    \n",
    "    "
   ]
  },
  {
   "cell_type": "code",
   "execution_count": null,
   "id": "a20aa339-eb20-4f86-aa23-4dc9090be55b",
   "metadata": {},
   "outputs": [],
   "source": []
  },
  {
   "cell_type": "code",
   "execution_count": null,
   "id": "a942cd50-dbbf-4796-9451-ed30bf320cb4",
   "metadata": {},
   "outputs": [],
   "source": []
  }
 ],
 "metadata": {
  "kernelspec": {
   "display_name": "Python 3.10.5 64-bit (windows store)",
   "language": "python",
   "name": "python3"
  },
  "language_info": {
   "codemirror_mode": {
    "name": "ipython",
    "version": 3
   },
   "file_extension": ".py",
   "mimetype": "text/x-python",
   "name": "python",
   "nbconvert_exporter": "python",
   "pygments_lexer": "ipython3",
   "version": "3.10.5"
  },
  "vscode": {
   "interpreter": {
    "hash": "a6bcdcf53b9ee3067982790aa2c97e682ededee60a11df577b97878d369a0d54"
   }
  }
 },
 "nbformat": 4,
 "nbformat_minor": 5
}
