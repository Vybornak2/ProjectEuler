{
 "cells": [
  {
   "cell_type": "code",
   "execution_count": 11,
   "id": "f13b18a8-8a07-421c-bcef-545c3b5317a9",
   "metadata": {},
   "outputs": [
    {
     "data": {
      "text/plain": [
       "'\\n2520 is the smallest number that can be divided by each of the numbers from 1 to 10 without any remainder.\\n\\nWhat is the smallest positive number that is evenly divisible by all of the numbers from 1 to 20?\\n'"
      ]
     },
     "execution_count": 11,
     "metadata": {},
     "output_type": "execute_result"
    }
   ],
   "source": [
    "\"\"\"\n",
    "2520 is the smallest number that can be divided by each of the numbers from 1 to 10 without any remainder.\n",
    "\n",
    "What is the smallest positive number that is evenly divisible by all of the numbers from 1 to 20?\n",
    "\"\"\"\n"
   ]
  },
  {
   "cell_type": "code",
   "execution_count": 10,
   "id": "6e7765e2-6575-445a-b47f-8f5e3e914f0b",
   "metadata": {},
   "outputs": [],
   "source": [
    "def Prime_search(res):\n",
    "    global is_prime\n",
    "    k = 0\n",
    "    prime_sq = {}\n",
    "    allprimed = False\n",
    "    while not allprimed:\n",
    "        for i in range(2, int(res + 1)):\n",
    "            if res % i == 0:\n",
    "                prime_sq[k] = i\n",
    "                res = res / i\n",
    "                break\n",
    "        k += 1\n",
    "        if int(res) == 1:\n",
    "            allprimed = True\n",
    "    return prime_sq\n"
   ]
  },
  {
   "cell_type": "code",
   "execution_count": 25,
   "id": "37109dea-fdf3-4043-b0aa-a33d523506ea",
   "metadata": {},
   "outputs": [
    {
     "name": "stdout",
     "output_type": "stream",
     "text": [
      "X= {0: 2}\n",
      "X= {0: 3}\n",
      "X= {0: 2, 1: 2}\n",
      "X= {0: 5}\n",
      "X= {0: 2, 1: 3}\n",
      "X= {0: 7}\n",
      "X= {0: 2, 1: 2, 2: 2}\n",
      "X= {0: 3, 1: 3}\n",
      "X= {0: 2, 1: 5}\n",
      "X= {0: 11}\n",
      "X= {0: 2, 1: 2, 2: 3}\n",
      "X= {0: 13}\n",
      "X= {0: 2, 1: 7}\n",
      "X= {0: 3, 1: 5}\n",
      "X= {0: 2, 1: 2, 2: 2, 3: 2}\n",
      "X= {0: 17}\n",
      "X= {0: 2, 1: 3, 2: 3}\n",
      "X= {0: 19}\n",
      "X= {0: 2, 1: 2, 2: 5}\n",
      "232792560\n"
     ]
    }
   ],
   "source": [
    "mul = 1\n",
    "for i in range(2,21):\n",
    "    X = Prime_search(i)\n",
    "    print('X=',X)\n",
    "    if len(X) == 1:\n",
    "        is_prime = True\n",
    "        mul *= X[0]\n",
    "    else:\n",
    "        x = X[0]\n",
    "        for k in range(1,len(X)):\n",
    "            x *= X[k]\n",
    "            if mul % x != 0:\n",
    "                mul *= X[k]\n",
    "print(mul)"
   ]
  },
  {
   "cell_type": "code",
   "execution_count": null,
   "id": "962da228-0ead-4739-893f-8359b09a40bc",
   "metadata": {},
   "outputs": [],
   "source": []
  }
 ],
 "metadata": {
  "kernelspec": {
   "display_name": "Python 3 (ipykernel)",
   "language": "python",
   "name": "python3"
  },
  "language_info": {
   "codemirror_mode": {
    "name": "ipython",
    "version": 3
   },
   "file_extension": ".py",
   "mimetype": "text/x-python",
   "name": "python",
   "nbconvert_exporter": "python",
   "pygments_lexer": "ipython3",
   "version": "3.9.6"
  }
 },
 "nbformat": 4,
 "nbformat_minor": 5
}
