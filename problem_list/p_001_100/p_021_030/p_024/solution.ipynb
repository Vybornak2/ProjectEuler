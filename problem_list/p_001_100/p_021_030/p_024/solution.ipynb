{
 "cells": [
  {
   "cell_type": "code",
   "execution_count": 23,
   "id": "e38cd89c",
   "metadata": {},
   "outputs": [
    {
     "data": {
      "text/markdown": [
       "# Problem 24\n",
       "\n",
       "[**Lexicographic Permutations**](https://projecteuler.net/problem=24)\n",
       "\n",
       "## Description:\n",
       "A permutation is an ordered arrangement of objects. For example, 3124 is one possible permutation of the digits 1, 2, 3 and 4. If all of the permutations are listed numerically or alphabetically, we call it lexicographic order. The lexicographic permutations of 0, 1 and 2 are:\n",
       "\n",
       "$$ 012, 021, 102, 120, 201, 210 $$\n",
       "\n",
       "\n",
       "## Task:\n",
       "What is the millionth lexicographic permutation of the digits $ 0, 1, 2, 3, 4, 5, 6, 7, 8 $ and $ 9 $?\n",
       "\n",
       "# Tags:\n",
       "- combinatorics\n",
       "- permutations\n",
       "- factorial\n"
      ],
      "text/plain": [
       "<IPython.core.display.Markdown object>"
      ]
     },
     "metadata": {},
     "output_type": "display_data"
    }
   ],
   "source": [
    "from IPython.display import Markdown, display\n",
    "\n",
    "with open(\"description.md\", \"r\") as file:\n",
    "    md_content = file.read()\n",
    "display(Markdown(md_content))"
   ]
  },
  {
   "cell_type": "markdown",
   "id": "09909db8",
   "metadata": {},
   "source": [
    "## Brute-force Solution"
   ]
  },
  {
   "cell_type": "code",
   "execution_count": 15,
   "id": "01eddb5e",
   "metadata": {},
   "outputs": [],
   "source": [
    "from itertools import permutations\n",
    "\n",
    "\n",
    "def main():\n",
    "    _permutations = list(permutations(range(0, 10)))\n",
    "    return \"\".join(str(x) for x in _permutations[999_999])\n"
   ]
  },
  {
   "cell_type": "code",
   "execution_count": 16,
   "id": "257bc38a",
   "metadata": {},
   "outputs": [
    {
     "name": "stdout",
     "output_type": "stream",
     "text": [
      "355 ms ± 19.7 ms per loop (mean ± std. dev. of 7 runs, 1 loop each)\n"
     ]
    }
   ],
   "source": [
    "%%timeit\n",
    "main()"
   ]
  },
  {
   "cell_type": "code",
   "execution_count": 17,
   "id": "ad711481",
   "metadata": {},
   "outputs": [
    {
     "data": {
      "text/plain": [
       "'2783915460'"
      ]
     },
     "execution_count": 17,
     "metadata": {},
     "output_type": "execute_result"
    }
   ],
   "source": [
    "main()"
   ]
  },
  {
   "cell_type": "markdown",
   "id": "9c2ff208",
   "metadata": {},
   "source": [
    "## Optimized Solution\n",
    "\n",
    "Better explanation in the end\n",
    "\n",
    "- computing iteratively count of all possible remaining permutations of remaining numbers\n",
    "- digit is than determined by amount of possible loops of remaining permutations within all possible combinations "
   ]
  },
  {
   "cell_type": "code",
   "execution_count": 18,
   "id": "9503f40b",
   "metadata": {},
   "outputs": [],
   "source": [
    "import math\n",
    "\n",
    "\n",
    "def main2():\n",
    "    digits = list(range(10))\n",
    "    target_index = 999_999\n",
    "    result = []\n",
    "\n",
    "    for i in range(9, -1, -1):\n",
    "        factorial = math.factorial(i)\n",
    "        index = target_index // factorial\n",
    "        result.append(str(digits.pop(index)))\n",
    "        target_index %= factorial\n",
    "\n",
    "    return \"\".join(result)"
   ]
  },
  {
   "cell_type": "code",
   "execution_count": 19,
   "id": "ff204899",
   "metadata": {},
   "outputs": [
    {
     "name": "stdout",
     "output_type": "stream",
     "text": [
      "2.7 μs ± 41.9 ns per loop (mean ± std. dev. of 7 runs, 100,000 loops each)\n"
     ]
    }
   ],
   "source": [
    "%%timeit\n",
    "main2()"
   ]
  },
  {
   "cell_type": "code",
   "execution_count": 20,
   "id": "dad7e30a",
   "metadata": {},
   "outputs": [
    {
     "data": {
      "text/plain": [
       "'2783915460'"
      ]
     },
     "execution_count": 20,
     "metadata": {},
     "output_type": "execute_result"
    }
   ],
   "source": [
    "main2()"
   ]
  },
  {
   "cell_type": "code",
   "execution_count": null,
   "id": "612b6b5e",
   "metadata": {},
   "outputs": [],
   "source": [
    "%%timeit\n",
    "main2()"
   ]
  },
  {
   "cell_type": "markdown",
   "id": "733b968d",
   "metadata": {},
   "source": [
    "## Further explanation - Lexicographic Order and Factorials\n",
    "In lexicographic order, permutations are listed in a sequence similar to dictionary order. The factorial helps in determining the position of each digit in the permutation.\n",
    "\n",
    "### Step-by-Step Explanation\n",
    "\n",
    "1. Initialization:\n",
    "\n",
    "    - We start with a list of digits [0, 1, 2, 3, 4, 5, 6, 7, 8, 9].\n",
    "    - We want to find the millionth permutation, so we set target_index to 999,999 (since indexing starts at 0).\n",
    "\n",
    "2. Iterating Through Positions:\n",
    "\n",
    "    - We iterate from the highest position (9) to the lowest (0).\n",
    "\n",
    "3. Using Factorials to Determine Positions:\n",
    "\n",
    "    - For each position i, we calculate i! (the factorial of i).\n",
    "    - This factorial represents the number of permutations possible with the remaining i digits.\n",
    "\n",
    "4. Determining the Index of the Current Digit:\n",
    "\n",
    "    - We divide target_index by i! to determine the index of the digit to be placed at the current position.\n",
    "    - This division tells us how many complete sets of permutations fit into the target_index.\n",
    "\n",
    "5. Updating the Result and Remaining Digits:\n",
    "\n",
    "    - We append the digit at the computed index to the result and remove it from the list of remaining digits.\n",
    "    - We update target_index to the remainder of the division, which helps in determining the next digit's position.\n",
    "\n",
    "### Example Walkthrough\n",
    "Let's walk through the first few iterations to see how the algorithm works:\n",
    "\n",
    "1. First Iteration (i = 9):\n",
    "\n",
    "    - factorial = math.factorial(9) = 362880\n",
    "    - index = 999999 // 362880 = 2\n",
    "    - The digit at index 2 in [0, 1, 2, 3, 4, 5, 6, 7, 8, 9] is 2.\n",
    "    - Append 2 to the result and remove it from the list: result = ['2'], digits = [0, 1, 3, 4, 5, 6, 7, 8, 9].\n",
    "    - Update target_index = 999999 % 362880 = 274239.\n",
    "\n",
    "2. Second Iteration (i = 8):\n",
    "\n",
    "    - factorial = math.factorial(8) = 40320\n",
    "    - index = 274239 // 40320 = 6\n",
    "    - The digit at index 6 in [0, 1, 3, 4, 5, 6, 7, 8, 9] is 7.\n",
    "    - Append 7 to the result and remove it from the list: result = ['2', '7'], digits = [0, 1, 3, 4, 5, 6, 8, 9].\n",
    "    - Update target_index = 274239 % 40320 = 32319.\n",
    "\n",
    "3. Third Iteration (i = 7):\n",
    "\n",
    "    - factorial = math.factorial(7) = 5040\n",
    "    - index = 32319 // 5040 = 6\n",
    "    - The digit at index 6 in [0, 1, 3, 4, 5, 6, 8, 9] is 8.\n",
    "    - Append 8 to the result and remove it from the list: result = ['2', '7', '8'], digits = [0, 1, 3, 4, 5, 6, 9].\n",
    "    - Update target_index = 32319 % 5040 = 2079."
   ]
  }
 ],
 "metadata": {
  "kernelspec": {
   "display_name": ".venv",
   "language": "python",
   "name": "python3"
  },
  "language_info": {
   "codemirror_mode": {
    "name": "ipython",
    "version": 3
   },
   "file_extension": ".py",
   "mimetype": "text/x-python",
   "name": "python",
   "nbconvert_exporter": "python",
   "pygments_lexer": "ipython3",
   "version": "3.11.10"
  }
 },
 "nbformat": 4,
 "nbformat_minor": 5
}
