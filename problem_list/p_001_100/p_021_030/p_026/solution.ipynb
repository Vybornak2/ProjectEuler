{
 "cells": [
  {
   "cell_type": "code",
   "execution_count": 20,
   "id": "e38cd89c",
   "metadata": {},
   "outputs": [
    {
     "data": {
      "text/markdown": [
       "# Problem 26\n",
       "\n",
       "[**Reciprocal cycles**](https://projecteuler.net/problem=26)\n",
       "\n",
       "## Description:\n",
       "A unit fraction contains $ 1 $ in the numerator. The decimal representation of the unit fractions with denominators $ 2 $ to $ 10 $ are given:\n",
       "\n",
       "$$\n",
       "\\begin{align}\n",
       "1/2 &= 0.5\\\\\n",
       "1/3 &=0.(3)\\\\\n",
       "1/4 &=0.25\\\\\n",
       "1/5 &= 0.2\\\\\n",
       "1/6 &= 0.1(6)\\\\\n",
       "1/7 &= 0.(142857)\\\\\n",
       "1/8 &= 0.125\\\\\n",
       "1/9 &= 0.(1)\\\\\n",
       "1/10 &= 0.1\n",
       "\\end{align}\n",
       "$$\n",
       " \n",
       "Where $ 0.1(6) $ means $ 0.166666... $, and has a $ 1 $-digit recurring cycle. It can be seen that $ 1/7 $ has a $ 6 $-digit recurring cycle.\n",
       "\n",
       "## Task:\n",
       "Find the value of $ d < 1000 $ for which $ 1/d $ contains the longest recurring cycle in its decimal fraction part.\n",
       "\n"
      ],
      "text/plain": [
       "<IPython.core.display.Markdown object>"
      ]
     },
     "metadata": {},
     "output_type": "display_data"
    }
   ],
   "source": [
    "from IPython.display import Markdown, display\n",
    "\n",
    "with open(\"description.md\", \"r\") as file:\n",
    "    md_content = file.read()\n",
    "display(Markdown(md_content))"
   ]
  },
  {
   "cell_type": "markdown",
   "id": "09909db8",
   "metadata": {},
   "source": [
    "## Brute-force Solution\n",
    "\n",
    "- Iteration through decimals of 1/d result\n",
    "- If this division produces a reminder at some point, that has already occurred, it means that cycle will repeat from this point\n",
    "- if reminder of division is equal to zero, there is no cycle"
   ]
  },
  {
   "cell_type": "code",
   "execution_count": 57,
   "id": "01eddb5e",
   "metadata": {},
   "outputs": [],
   "source": [
    "def recurring_cycle_length(number):\n",
    "    remainders = {}\n",
    "    value = 1\n",
    "    position = 0\n",
    "\n",
    "    while value != 0 and value not in remainders:\n",
    "        remainders[value] = position\n",
    "\n",
    "        value *= 10\n",
    "        value %= number\n",
    "\n",
    "        position += 1\n",
    "\n",
    "    if value == 0:\n",
    "        return 0\n",
    "    else:\n",
    "        cycle_length = position - remainders[value]\n",
    "        return cycle_length\n",
    "\n",
    "\n",
    "def main(limit: int = 1_000):\n",
    "    \"\"\"Calculates the value of d < limit for which 1/d contains the longest recurring cycle in its decimal fraction part.\n",
    "\n",
    "    :param limit: max value of d to iterate to, defaults to 1_000\n",
    "    :return: value of d and the length of the recurring cycle\n",
    "    \"\"\"\n",
    "    max_length = 0\n",
    "    result_d = 0\n",
    "\n",
    "    for d in range(2, limit):\n",
    "        cycle_length = recurring_cycle_length(d)\n",
    "        if cycle_length > max_length:\n",
    "            max_length = cycle_length\n",
    "            result_d = d\n",
    "\n",
    "    return result_d, max_length"
   ]
  },
  {
   "cell_type": "code",
   "execution_count": 59,
   "id": "257bc38a",
   "metadata": {},
   "outputs": [
    {
     "name": "stdout",
     "output_type": "stream",
     "text": [
      "13.3 ms ± 344 μs per loop (mean ± std. dev. of 7 runs, 100 loops each)\n"
     ]
    }
   ],
   "source": [
    "%%timeit\n",
    "main()"
   ]
  },
  {
   "cell_type": "code",
   "execution_count": 58,
   "id": "ad711481",
   "metadata": {},
   "outputs": [
    {
     "data": {
      "text/plain": [
       "(983, 982)"
      ]
     },
     "execution_count": 58,
     "metadata": {},
     "output_type": "execute_result"
    }
   ],
   "source": [
    "main()"
   ]
  }
 ],
 "metadata": {
  "kernelspec": {
   "display_name": ".venv",
   "language": "python",
   "name": "python3"
  },
  "language_info": {
   "codemirror_mode": {
    "name": "ipython",
    "version": 3
   },
   "file_extension": ".py",
   "mimetype": "text/x-python",
   "name": "python",
   "nbconvert_exporter": "python",
   "pygments_lexer": "ipython3",
   "version": "3.11.10"
  }
 },
 "nbformat": 4,
 "nbformat_minor": 5
}
