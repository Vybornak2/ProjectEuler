{
 "cells": [
  {
   "cell_type": "code",
   "execution_count": 1,
   "id": "e38cd89c",
   "metadata": {},
   "outputs": [
    {
     "data": {
      "text/markdown": [
       "# Problem 26\n",
       "\n",
       "[**Reciprocal cycles**](https://projecteuler.net/problem=26)\n",
       "\n",
       "## Description:\n",
       "A unit fraction contains $ 1 $ in the numerator. The decimal representation of the unit fractions with denominators $ 2 $ to $ 10 $ are given:\n",
       "\n",
       "$$\n",
       "\\begin{align}\n",
       "1/2 &= 0.5\\\\\n",
       "1/3 &=0.(3)\\\\\n",
       "1/4 &=0.25\\\\\n",
       "1/5 &= 0.2\\\\\n",
       "1/6 &= 0.1(6)\\\\\n",
       "1/7 &= 0.(142857)\\\\\n",
       "1/8 &= 0.125\\\\\n",
       "1/9 &= 0.(1)\\\\\n",
       "1/10 &= 0.1\n",
       "\\end{align}\n",
       "$$\n",
       " \n",
       "Where $ 0.1(6) $ means $ 0.166666... $, and has a $ 1 $-digit recurring cycle. It can be seen that $ 1/7 $ has a $ 6 $-digit recurring cycle.\n",
       "\n",
       "## Task:\n",
       "Find the value of $ d < 1000 $ for which $ 1/d $ contains the longest recurring cycle in its decimal fraction part.\n",
       "\n"
      ],
      "text/plain": [
       "<IPython.core.display.Markdown object>"
      ]
     },
     "metadata": {},
     "output_type": "display_data"
    }
   ],
   "source": [
    "from IPython.display import Markdown, display\n",
    "\n",
    "with open(\"description.md\", \"r\") as file:\n",
    "    md_content = file.read()\n",
    "display(Markdown(md_content))"
   ]
  },
  {
   "cell_type": "markdown",
   "id": "09909db8",
   "metadata": {},
   "source": [
    "## Brute-force Solution"
   ]
  },
  {
   "cell_type": "code",
   "execution_count": 4,
   "id": "01eddb5e",
   "metadata": {},
   "outputs": [],
   "source": [
    "def main():\n",
    "    pass"
   ]
  },
  {
   "cell_type": "code",
   "execution_count": 5,
   "id": "257bc38a",
   "metadata": {},
   "outputs": [
    {
     "name": "stdout",
     "output_type": "stream",
     "text": [
      "35.3 ns ± 1.24 ns per loop (mean ± std. dev. of 7 runs, 10,000,000 loops each)\n"
     ]
    }
   ],
   "source": [
    "%%timeit\n",
    "main()"
   ]
  },
  {
   "cell_type": "code",
   "execution_count": 6,
   "id": "ad711481",
   "metadata": {},
   "outputs": [],
   "source": [
    "main()"
   ]
  },
  {
   "cell_type": "markdown",
   "id": "9c2ff208",
   "metadata": {},
   "source": [
    "## Optimized Solution\n",
    "- notes  "
   ]
  },
  {
   "cell_type": "code",
   "execution_count": null,
   "id": "9503f40b",
   "metadata": {},
   "outputs": [],
   "source": [
    "def main2():\n",
    "    pass"
   ]
  },
  {
   "cell_type": "code",
   "execution_count": null,
   "id": "ff204899",
   "metadata": {},
   "outputs": [],
   "source": [
    "%%timeit\n",
    "main2()"
   ]
  },
  {
   "cell_type": "code",
   "execution_count": null,
   "id": "dad7e30a",
   "metadata": {},
   "outputs": [],
   "source": [
    "main2()"
   ]
  }
 ],
 "metadata": {
  "kernelspec": {
   "display_name": ".venv",
   "language": "python",
   "name": "python3"
  },
  "language_info": {
   "codemirror_mode": {
    "name": "ipython",
    "version": 3
   },
   "file_extension": ".py",
   "mimetype": "text/x-python",
   "name": "python",
   "nbconvert_exporter": "python",
   "pygments_lexer": "ipython3",
   "version": "3.11.10"
  }
 },
 "nbformat": 4,
 "nbformat_minor": 5
}
