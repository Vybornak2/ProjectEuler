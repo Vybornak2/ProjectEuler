{
 "cells": [
  {
   "cell_type": "code",
   "execution_count": 102,
   "id": "e38cd89c",
   "metadata": {},
   "outputs": [
    {
     "data": {
      "text/markdown": [
       "# Problem 30\n",
       "\n",
       "[**Digit Fifth Powers**](https://projecteuler.net/problem=30)\n",
       "\n",
       "## Description:\n",
       "Surprisingly there are only three numbers that can be written as the sum of fourth powers of their digits:\n",
       " \n",
       "$$\n",
       "\\begin{align}\n",
       "1634 &= 1^4 + 6^4 + 3^4 + 4^4\\\\\n",
       "8208 &= 8^4 + 2^4 + 0^4 + 8^4\\\\\n",
       "9474 &= 9^4 + 4^4 + 7^4 + 4^4\n",
       "\\end{align}\n",
       "$$\n",
       "\n",
       "As $ 1 = 1^4 $ is not a sum it is not included.\n",
       "\n",
       "The sum of these numbers is $ 1634 + 8208 + 9474 = 19316 $.\n",
       "\n",
       "## Task:\n",
       "Find the sum of all the numbers that can be written as the sum of fifth powers of their digits.\n",
       "\n"
      ],
      "text/plain": [
       "<IPython.core.display.Markdown object>"
      ]
     },
     "metadata": {},
     "output_type": "display_data"
    }
   ],
   "source": [
    "from IPython.display import Markdown, display\n",
    "\n",
    "with open(\"description.md\", \"r\") as file:\n",
    "    md_content = file.read()\n",
    "display(Markdown(md_content))"
   ]
  },
  {
   "cell_type": "markdown",
   "id": "09909db8",
   "metadata": {},
   "source": [
    "## Brute-force Solution"
   ]
  },
  {
   "cell_type": "code",
   "execution_count": 68,
   "id": "01eddb5e",
   "metadata": {},
   "outputs": [],
   "source": [
    "def digit_5th_power_sum(number):\n",
    "    return sum([int(digit) ** 5 for digit in str(number)])\n",
    "\n",
    "\n",
    "def number_generator(upper_bound):\n",
    "    for i in range(2, upper_bound):\n",
    "        if i == digit_5th_power_sum(i):\n",
    "            yield i\n",
    "\n",
    "\n",
    "def get_max_number():\n",
    "    number = 9\n",
    "    while number < digit_5th_power_sum(number):\n",
    "        number = int(str(number) + \"9\")\n",
    "    return number"
   ]
  },
  {
   "cell_type": "code",
   "execution_count": 69,
   "id": "2256e77c",
   "metadata": {},
   "outputs": [],
   "source": [
    "def main():\n",
    "    upper_bound = get_max_number()\n",
    "    return sum(number_generator(upper_bound))"
   ]
  },
  {
   "cell_type": "code",
   "execution_count": 72,
   "id": "257bc38a",
   "metadata": {},
   "outputs": [
    {
     "name": "stdout",
     "output_type": "stream",
     "text": [
      "1.26 s ± 27.5 ms per loop (mean ± std. dev. of 7 runs, 1 loop each)\n"
     ]
    }
   ],
   "source": [
    "%%timeit\n",
    "main()"
   ]
  },
  {
   "cell_type": "code",
   "execution_count": 70,
   "id": "ad711481",
   "metadata": {},
   "outputs": [
    {
     "data": {
      "text/plain": [
       "443839"
      ]
     },
     "execution_count": 70,
     "metadata": {},
     "output_type": "execute_result"
    }
   ],
   "source": [
    "main()"
   ]
  },
  {
   "cell_type": "markdown",
   "id": "9c2ff208",
   "metadata": {},
   "source": [
    "## Optimized Solution ideas\n",
    "- generate different combinations of digits and check only possible sums for these combinations\n",
    "- if sum number found, remove all combinations that can be made from digits\n",
    "\n",
    "---\n",
    "\n",
    "- further optimizations would need to be made - only 1k numbers would be removed\n",
    "    - for example sums of numbers such as 111_111 can be removed\n",
    "    - for each order magnitude you can easily compute lowest possible combination of digits\n",
    "\n",
    "---\n",
    "\n",
    "- likely some other solution would be better"
   ]
  },
  {
   "cell_type": "code",
   "execution_count": 100,
   "id": "51f5d548",
   "metadata": {},
   "outputs": [],
   "source": [
    "import numpy as np\n",
    "from itertools import permutations\n",
    "\n",
    "\n",
    "def get_numbers_to_remove(number):\n",
    "    number_digits = np.array([int(digit) for digit in str(number)])\n",
    "    # number_digits.sort()\n",
    "    number_permutations = permutations(number_digits)\n",
    "\n",
    "    numbers_to_remove = [\n",
    "        int(\"\".join(map(str, number))) for number in number_permutations\n",
    "    ]\n",
    "\n",
    "    return np.array(numbers_to_remove)\n",
    "\n",
    "\n",
    "def main2():\n",
    "    upper_bound = get_max_number()\n",
    "    test_number = np.ones(upper_bound, dtype=bool)\n",
    "    numbers = []\n",
    "\n",
    "    removed_count = 0\n",
    "\n",
    "    for i in range(2, upper_bound):\n",
    "        if not test_number[i]:\n",
    "            continue\n",
    "\n",
    "        digit_sum = digit_5th_power_sum(i)\n",
    "\n",
    "        if i == digit_sum:\n",
    "            numbers.append(i)\n",
    "            numbers_to_remove = get_numbers_to_remove(i)\n",
    "            test_number[numbers_to_remove] = False\n",
    "            removed_count += numbers_to_remove.size\n",
    "\n",
    "        # removal seems to be too big for this to be efficient in this implementation\n",
    "\n",
    "        # elif digit_sum <= 10 ** (len(str(i)) - 1):\n",
    "        #     numbers_to_remove = get_numbers_to_remove(i)\n",
    "        #     test_number[numbers_to_remove] = False\n",
    "        #     removed_count += numbers_to_remove.size\n",
    "\n",
    "        # elif digit_sum >= 10 ** (len(str(i)) + 1):\n",
    "        #     numbers_to_remove = get_numbers_to_remove(i)\n",
    "        #     test_number[numbers_to_remove] = False\n",
    "        #     removed_count += numbers_to_remove.size\n",
    "        # else:\n",
    "        #     test_number[i] = False\n",
    "\n",
    "    # print(f\"Removed {removed_count} numbers\")\n",
    "\n",
    "    return sum(numbers)"
   ]
  },
  {
   "cell_type": "code",
   "execution_count": 88,
   "id": "ff204899",
   "metadata": {},
   "outputs": [
    {
     "name": "stdout",
     "output_type": "stream",
     "text": [
      "1.33 s ± 22.6 ms per loop (mean ± std. dev. of 7 runs, 1 loop each)\n"
     ]
    }
   ],
   "source": [
    "%%timeit\n",
    "main2()"
   ]
  },
  {
   "cell_type": "code",
   "execution_count": 101,
   "id": "dad7e30a",
   "metadata": {},
   "outputs": [
    {
     "data": {
      "text/plain": [
       "443839"
      ]
     },
     "execution_count": 101,
     "metadata": {},
     "output_type": "execute_result"
    }
   ],
   "source": [
    "main2()"
   ]
  }
 ],
 "metadata": {
  "kernelspec": {
   "display_name": ".venv",
   "language": "python",
   "name": "python3"
  },
  "language_info": {
   "codemirror_mode": {
    "name": "ipython",
    "version": 3
   },
   "file_extension": ".py",
   "mimetype": "text/x-python",
   "name": "python",
   "nbconvert_exporter": "python",
   "pygments_lexer": "ipython3",
   "version": "3.11.10"
  }
 },
 "nbformat": 4,
 "nbformat_minor": 5
}
