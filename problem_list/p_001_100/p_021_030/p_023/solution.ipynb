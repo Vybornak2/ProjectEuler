{
 "cells": [
  {
   "cell_type": "code",
   "execution_count": 1,
   "id": "e38cd89c",
   "metadata": {},
   "outputs": [
    {
     "data": {
      "text/markdown": [
       "# Problem 23\n",
       "\n",
       "[**Non-Abundant Sums**](https://projecteuler.net/problem=23)\n",
       "\n",
       "## Description:\n",
       "A perfect number is a number for which the sum of its proper divisors is exactly equal to the number. For example, the sum of the proper divisors of $ 28 $ would be $ 1 + 2 + 4 + 7 + 14 = 28 $, which means that $ 28 $ is a perfect number.\n",
       "\n",
       "A number $ n $ is called deficient if the sum of its proper divisors is less than $ n $ and it is called abundant if this sum exceeds $ n $.\n",
       "\n",
       "As $ 12 $ is the smallest abundant number, $ 1 + 2 + 3 + 4 + 6 = 16 $, the smallest number that can be written as the sum of two abundant numbers is $ 24 $. By mathematical analysis, it can be shown that all integers greater than $ 28123 $ can be written as the sum of two abundant numbers. However, this upper limit cannot be reduced any further by analysis even though it is known that the greatest number that cannot be expressed as the sum of two abundant numbers is less than this limit.\n",
       "\n",
       "## Task:\n",
       "Find the sum of all the positive integers which cannot be written as the sum of two abundant numbers.\n",
       "\n"
      ],
      "text/plain": [
       "<IPython.core.display.Markdown object>"
      ]
     },
     "metadata": {},
     "output_type": "display_data"
    }
   ],
   "source": [
    "from IPython.display import Markdown, display\n",
    "\n",
    "with open(\"description.md\", \"r\") as file:\n",
    "    md_content = file.read()\n",
    "display(Markdown(md_content))"
   ]
  },
  {
   "cell_type": "markdown",
   "id": "09909db8",
   "metadata": {},
   "source": [
    "## Brute-force Solution"
   ]
  },
  {
   "cell_type": "code",
   "execution_count": 7,
   "id": "01eddb5e",
   "metadata": {},
   "outputs": [],
   "source": [
    "# TODO: REFACTOR THIS\n",
    "\n",
    "import math\n",
    "from functools import lru_cache\n",
    "from itertools import combinations_with_replacement\n",
    "\n",
    "import numpy as np\n",
    "\n",
    "\n",
    "@lru_cache(maxsize=None)\n",
    "def get_proper_divisors(number):\n",
    "    if number <= 1:\n",
    "        return []\n",
    "\n",
    "    divisors = set()\n",
    "    for i in range(1, int(math.sqrt(number)) + 1):\n",
    "        if number % i == 0:\n",
    "            divisors.add(i)\n",
    "            if i != number // i:\n",
    "                divisors.add(number // i)\n",
    "\n",
    "    divisors.discard(number)  # Remove the number itself to get proper divisors\n",
    "    return sorted(divisors)\n",
    "\n",
    "\n",
    "def get_all_abundant_numbers(limit: int = 28123):\n",
    "    abundant_numbers = []\n",
    "\n",
    "    for number in range(12, limit):\n",
    "        divisors = get_proper_divisors(number)\n",
    "        if sum(divisors) > number:\n",
    "            abundant_numbers.append(number)\n",
    "\n",
    "    return abundant_numbers\n",
    "\n",
    "\n",
    "def main():\n",
    "    limit = 28123\n",
    "    abundant_numbers = get_all_abundant_numbers(limit)\n",
    "    abundant_sums = np.array(\n",
    "        [sum(c) for c in combinations_with_replacement(abundant_numbers, 2)]\n",
    "    )\n",
    "    abundant_sums = np.unique(abundant_sums)\n",
    "    abundant_sums = abundant_sums[abundant_sums < limit]\n",
    "    non_abundant_sums = np.setdiff1d(np.arange(limit), abundant_sums)\n",
    "    return non_abundant_sums.sum()"
   ]
  },
  {
   "cell_type": "code",
   "execution_count": 5,
   "id": "257bc38a",
   "metadata": {},
   "outputs": [
    {
     "name": "stdout",
     "output_type": "stream",
     "text": [
      "35.3 ns ± 1.24 ns per loop (mean ± std. dev. of 7 runs, 10,000,000 loops each)\n"
     ]
    }
   ],
   "source": [
    "%%timeit\n",
    "main()"
   ]
  },
  {
   "cell_type": "code",
   "execution_count": 8,
   "id": "ad711481",
   "metadata": {},
   "outputs": [
    {
     "data": {
      "text/plain": [
       "np.int64(4179871)"
      ]
     },
     "execution_count": 8,
     "metadata": {},
     "output_type": "execute_result"
    }
   ],
   "source": [
    "main()"
   ]
  },
  {
   "cell_type": "markdown",
   "id": "9c2ff208",
   "metadata": {},
   "source": [
    "## Optimized Solution\n",
    "- notes  "
   ]
  },
  {
   "cell_type": "code",
   "execution_count": null,
   "id": "9503f40b",
   "metadata": {},
   "outputs": [],
   "source": [
    "def main2():\n",
    "    pass"
   ]
  },
  {
   "cell_type": "code",
   "execution_count": null,
   "id": "ff204899",
   "metadata": {},
   "outputs": [],
   "source": [
    "%%timeit\n",
    "main2()"
   ]
  },
  {
   "cell_type": "code",
   "execution_count": null,
   "id": "dad7e30a",
   "metadata": {},
   "outputs": [],
   "source": [
    "main2()"
   ]
  }
 ],
 "metadata": {
  "kernelspec": {
   "display_name": ".venv",
   "language": "python",
   "name": "python3"
  },
  "language_info": {
   "codemirror_mode": {
    "name": "ipython",
    "version": 3
   },
   "file_extension": ".py",
   "mimetype": "text/x-python",
   "name": "python",
   "nbconvert_exporter": "python",
   "pygments_lexer": "ipython3",
   "version": "3.11.10"
  }
 },
 "nbformat": 4,
 "nbformat_minor": 5
}
