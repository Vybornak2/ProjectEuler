{
 "cells": [
  {
   "cell_type": "code",
   "execution_count": 31,
   "id": "e38cd89c",
   "metadata": {},
   "outputs": [
    {
     "data": {
      "text/markdown": [
       "# Problem 21\n",
       "\n",
       "[**Amicable Numbers**](https://projecteuler.net/problem=21)\n",
       "\n",
       "## Description:\n",
       "Let $ d(n) $ be defined as the sum of proper divisors of $ n $ (numbers less than $ n $ which divide evenly into $ n $).\n",
       "\n",
       "If $ d(a) = b $ and $ d(b) = a $, where $ a \\neq b $, then $ a $ and $ b $ are an amicable pair and each of $ a $ and $ b $ are called amicable numbers.\n",
       "\n",
       "For example, the proper divisors of $ 220 $ are $ 1, 2, 4, 5, 10, 11, 20, 22, 44, 55 $ and $ 110 $; therefore $ d(220) = 284 $. The proper divisors of $ 284 $ are $ 1, 2, 4, 71 $ and $ 142 $; so $ d(284) = 220 $.\n",
       "\n",
       "## Task:\n",
       "Evaluate the sum of all the amicable numbers under $ 10000 $.\n",
       "\n",
       "### Tags\n",
       "- amicable numbers\n",
       "- proper divisors\n",
       "\n"
      ],
      "text/plain": [
       "<IPython.core.display.Markdown object>"
      ]
     },
     "metadata": {},
     "output_type": "display_data"
    }
   ],
   "source": [
    "from IPython.display import Markdown, display\n",
    "\n",
    "with open(\"description.md\", \"r\") as file:\n",
    "    md_content = file.read()\n",
    "display(Markdown(md_content))"
   ]
  },
  {
   "cell_type": "markdown",
   "id": "09909db8",
   "metadata": {},
   "source": [
    "## Brute-force Solution"
   ]
  },
  {
   "cell_type": "code",
   "execution_count": 27,
   "id": "01eddb5e",
   "metadata": {},
   "outputs": [],
   "source": [
    "import math\n",
    "from functools import lru_cache\n",
    "\n",
    "import numpy as np\n",
    "\n",
    "\n",
    "@lru_cache(maxsize=None)\n",
    "def get_proper_divisors(number):\n",
    "    if number <= 1:\n",
    "        return []\n",
    "\n",
    "    divisors = set()\n",
    "    for i in range(1, int(math.sqrt(number)) + 1):\n",
    "        if number % i == 0:\n",
    "            divisors.add(i)\n",
    "            if i != number // i:\n",
    "                divisors.add(number // i)\n",
    "\n",
    "    divisors.discard(number)  # Remove the number itself to get proper divisors\n",
    "    return sorted(divisors)\n",
    "\n",
    "\n",
    "def get_amicable_numbers_up_to(limit: int = 10_000):\n",
    "    amicable_numbers = dict()\n",
    "\n",
    "    for i in range(1, limit):\n",
    "        if i in amicable_numbers:\n",
    "            continue\n",
    "\n",
    "        divisors1 = np.array(get_proper_divisors(i))\n",
    "        divisor_sum1 = divisors1.sum()\n",
    "\n",
    "        if divisor_sum1 == i:\n",
    "            continue\n",
    "\n",
    "        divisors2 = np.array(get_proper_divisors(divisor_sum1))\n",
    "        divisors_sum2 = divisors2.sum()\n",
    "\n",
    "        if divisors_sum2 == i:\n",
    "            a1 = int(i)\n",
    "            a2 = int(divisor_sum1)\n",
    "\n",
    "            amicable_numbers[a1] = a2\n",
    "            amicable_numbers[a2] = a1\n",
    "\n",
    "    return amicable_numbers\n",
    "\n",
    "\n",
    "def main(limit: int = 10_000):\n",
    "    return sum(get_amicable_numbers_up_to(limit).keys())"
   ]
  },
  {
   "cell_type": "code",
   "execution_count": 28,
   "id": "257bc38a",
   "metadata": {},
   "outputs": [
    {
     "name": "stdout",
     "output_type": "stream",
     "text": [
      "49.9 ms ± 1.69 ms per loop (mean ± std. dev. of 7 runs, 10 loops each)\n"
     ]
    }
   ],
   "source": [
    "%%timeit\n",
    "main()"
   ]
  },
  {
   "cell_type": "code",
   "execution_count": 29,
   "id": "909af03c",
   "metadata": {},
   "outputs": [
    {
     "data": {
      "text/plain": [
       "{220: 284,\n",
       " 284: 220,\n",
       " 1184: 1210,\n",
       " 1210: 1184,\n",
       " 2620: 2924,\n",
       " 2924: 2620,\n",
       " 5020: 5564,\n",
       " 5564: 5020,\n",
       " 6232: 6368,\n",
       " 6368: 6232}"
      ]
     },
     "execution_count": 29,
     "metadata": {},
     "output_type": "execute_result"
    }
   ],
   "source": [
    "get_amicable_numbers_up_to()"
   ]
  },
  {
   "cell_type": "code",
   "execution_count": 30,
   "id": "ad711481",
   "metadata": {},
   "outputs": [
    {
     "data": {
      "text/plain": [
       "31626"
      ]
     },
     "execution_count": 30,
     "metadata": {},
     "output_type": "execute_result"
    }
   ],
   "source": [
    "main()"
   ]
  },
  {
   "cell_type": "markdown",
   "id": "9c2ff208",
   "metadata": {},
   "source": [
    "## Optimized Solution ideas\n",
    "- utilizing dynamic programming to find divisors - step from sqrt to 1 and cache divisors\n",
    "- explore chains generated as a result of process - divisors -> sum - divisors -> sum"
   ]
  }
 ],
 "metadata": {
  "kernelspec": {
   "display_name": ".venv",
   "language": "python",
   "name": "python3"
  },
  "language_info": {
   "codemirror_mode": {
    "name": "ipython",
    "version": 3
   },
   "file_extension": ".py",
   "mimetype": "text/x-python",
   "name": "python",
   "nbconvert_exporter": "python",
   "pygments_lexer": "ipython3",
   "version": "3.11.10"
  }
 },
 "nbformat": 4,
 "nbformat_minor": 5
}
