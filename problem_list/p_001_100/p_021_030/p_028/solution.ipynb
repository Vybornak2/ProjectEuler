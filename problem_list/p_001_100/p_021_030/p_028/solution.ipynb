{
 "cells": [
  {
   "cell_type": "code",
   "execution_count": 4,
   "id": "e38cd89c",
   "metadata": {},
   "outputs": [
    {
     "data": {
      "text/markdown": [
       "# Problem 28\n",
       "\n",
       "[**Number Spiral Diagonals**](https://projecteuler.net/problem=28)\n",
       "\n",
       "## Description:\n",
       "Starting with the number $1$ and moving to the right in a clockwise direction a $5$ by $5$ spiral is formed as follows:\n",
       "\n",
       "![image](problem_image.png)\n",
       "\n",
       "It can be verified that the sum of the numbers on the diagonals is $101$.\n",
       "\n",
       "\n",
       "## Task:\n",
       "What is the sum of the numbers on the diagonals in a $1001$ by $1001$ spiral formed in the same way?\n",
       "\n"
      ],
      "text/plain": [
       "<IPython.core.display.Markdown object>"
      ]
     },
     "metadata": {},
     "output_type": "display_data"
    }
   ],
   "source": [
    "from IPython.display import Markdown, display\n",
    "\n",
    "with open(\"description.md\", \"r\") as file:\n",
    "    md_content = file.read()\n",
    "display(Markdown(md_content))"
   ]
  },
  {
   "cell_type": "markdown",
   "id": "09909db8",
   "metadata": {},
   "source": [
    "## Brute-force Solution"
   ]
  },
  {
   "cell_type": "code",
   "execution_count": 121,
   "id": "01eddb5e",
   "metadata": {},
   "outputs": [],
   "source": [
    "import numpy as np\n",
    "\n",
    "\n",
    "def main(limit: int = 501):\n",
    "    last_node = 9\n",
    "    node_count = 8\n",
    "    corner_sum = 25\n",
    "\n",
    "    for layer_index in range(2, limit):\n",
    "        node_count += 8\n",
    "        corners = [\n",
    "            last_node + i + node_count // 4 - 1\n",
    "            for i in range(1, node_count, (node_count) // 4)\n",
    "        ]\n",
    "\n",
    "        corner_sum += sum(corners)\n",
    "        last_node += node_count\n",
    "\n",
    "    return corner_sum\n"
   ]
  },
  {
   "cell_type": "code",
   "execution_count": 122,
   "id": "257bc38a",
   "metadata": {},
   "outputs": [
    {
     "name": "stdout",
     "output_type": "stream",
     "text": [
      "442 μs ± 11.1 μs per loop (mean ± std. dev. of 7 runs, 1,000 loops each)\n"
     ]
    }
   ],
   "source": [
    "%%timeit\n",
    "main()"
   ]
  },
  {
   "cell_type": "code",
   "execution_count": 123,
   "id": "ad711481",
   "metadata": {},
   "outputs": [
    {
     "data": {
      "text/plain": [
       "669171001"
      ]
     },
     "execution_count": 123,
     "metadata": {},
     "output_type": "execute_result"
    }
   ],
   "source": [
    "main()"
   ]
  },
  {
   "cell_type": "markdown",
   "id": "9c2ff208",
   "metadata": {},
   "source": [
    "## Optimized Solution - Ulam Spiral\n",
    "- in Ulam spiral space formulas \n",
    "- formula to generate different lines in Ulam Spiral space\n",
    "$$ 4 \\cdot n^2 + b \\cdot n + c $$\n",
    "\n",
    "- for even values of b, diagonals are generated"
   ]
  },
  {
   "cell_type": "code",
   "execution_count": 124,
   "id": "9503f40b",
   "metadata": {},
   "outputs": [],
   "source": [
    "import numpy as np\n",
    "from numpy.typing import NDArray\n",
    "\n",
    "\n",
    "def generate_corner_values(n: NDArray, b: int, c: int) -> NDArray:\n",
    "    return 4 * n**2 + b * n + c\n",
    "\n",
    "\n",
    "def main2(limit: int = 501):\n",
    "    indices = np.arange(1, limit)\n",
    "    b = np.array([-2, 0, 2, 4]).reshape(-1, 1)\n",
    "    c = np.array([1, 1, 1, 1]).reshape(-1, 1)\n",
    "    return int(generate_corner_values(indices, b, c).sum() + 1)"
   ]
  },
  {
   "cell_type": "code",
   "execution_count": 125,
   "id": "ff204899",
   "metadata": {},
   "outputs": [
    {
     "name": "stdout",
     "output_type": "stream",
     "text": [
      "18.8 μs ± 206 ns per loop (mean ± std. dev. of 7 runs, 100,000 loops each)\n"
     ]
    }
   ],
   "source": [
    "%%timeit\n",
    "main2()"
   ]
  },
  {
   "cell_type": "code",
   "execution_count": 126,
   "id": "dad7e30a",
   "metadata": {},
   "outputs": [
    {
     "data": {
      "text/plain": [
       "669171001"
      ]
     },
     "execution_count": 126,
     "metadata": {},
     "output_type": "execute_result"
    }
   ],
   "source": [
    "main2()"
   ]
  }
 ],
 "metadata": {
  "kernelspec": {
   "display_name": ".venv",
   "language": "python",
   "name": "python3"
  },
  "language_info": {
   "codemirror_mode": {
    "name": "ipython",
    "version": 3
   },
   "file_extension": ".py",
   "mimetype": "text/x-python",
   "name": "python",
   "nbconvert_exporter": "python",
   "pygments_lexer": "ipython3",
   "version": "3.11.10"
  }
 },
 "nbformat": 4,
 "nbformat_minor": 5
}
