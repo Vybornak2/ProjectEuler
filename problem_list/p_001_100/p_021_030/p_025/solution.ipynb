{
 "cells": [
  {
   "cell_type": "code",
   "execution_count": 2,
   "id": "e38cd89c",
   "metadata": {},
   "outputs": [
    {
     "data": {
      "text/markdown": [
       "# Problem 25\n",
       "\n",
       "[**1000-digit Fibonacci Number**](https://projecteuler.net/problem=25)\n",
       "\n",
       "## Description:\n",
       "The Fibonacci sequence is defined by the recurrence relation:\n",
       "\n",
       "$ F_n = F_{n - 1} + F_{n - 2} $, where $ F_1 = 1 $ and $ F_2 = 1 $.\n",
       "\n",
       "Hence the first $ 12 $ terms will be:\n",
       "$$\n",
       "\\begin{align}\n",
       "F_1 &= 1\\\\\n",
       "F_2 &= 1\\\\\n",
       "F_3 &= 2\\\\\n",
       "F_4 &= 3\\\\\n",
       "F_5 &= 5\\\\\n",
       "F_6 &= 8\\\\\n",
       "F_7 &= 13\\\\\n",
       "F_8 &= 21\\\\\n",
       "F_9 &= 34\\\\\n",
       "F_{10} &= 55\\\\\n",
       "F_{11} &= 89\\\\\n",
       "F_{12} &= 144\n",
       "\\end{align}\n",
       "$$\n",
       " \n",
       "The $ 12^{th} $ term, is the first term to contain three digits.\n",
       "\n",
       "## Task:\n",
       "What is the index of the first term in the Fibonacci sequence to contain $ 1000 $ digits?\n",
       "\n"
      ],
      "text/plain": [
       "<IPython.core.display.Markdown object>"
      ]
     },
     "metadata": {},
     "output_type": "display_data"
    }
   ],
   "source": [
    "from IPython.display import Markdown, display\n",
    "\n",
    "with open(\"description.md\", \"r\") as file:\n",
    "    md_content = file.read()\n",
    "display(Markdown(md_content))"
   ]
  },
  {
   "cell_type": "markdown",
   "id": "09909db8",
   "metadata": {},
   "source": [
    "## Brute-force Solution"
   ]
  },
  {
   "cell_type": "code",
   "execution_count": 13,
   "id": "01eddb5e",
   "metadata": {},
   "outputs": [],
   "source": [
    "def main():\n",
    "    index = 2\n",
    "    number = 1\n",
    "    previous_number = 1\n",
    "    while len(str(number)) < 1000:\n",
    "        number, previous_number = number + previous_number, number\n",
    "        index += 1\n",
    "    return index"
   ]
  },
  {
   "cell_type": "code",
   "execution_count": 12,
   "id": "257bc38a",
   "metadata": {},
   "outputs": [
    {
     "name": "stdout",
     "output_type": "stream",
     "text": [
      "26.7 ms ± 251 μs per loop (mean ± std. dev. of 7 runs, 10 loops each)\n"
     ]
    }
   ],
   "source": [
    "%%timeit\n",
    "main()"
   ]
  },
  {
   "cell_type": "code",
   "execution_count": 14,
   "id": "ad711481",
   "metadata": {},
   "outputs": [
    {
     "data": {
      "text/plain": [
       "4782"
      ]
     },
     "execution_count": 14,
     "metadata": {},
     "output_type": "execute_result"
    }
   ],
   "source": [
    "main()"
   ]
  }
 ],
 "metadata": {
  "kernelspec": {
   "display_name": ".venv",
   "language": "python",
   "name": "python3"
  },
  "language_info": {
   "codemirror_mode": {
    "name": "ipython",
    "version": 3
   },
   "file_extension": ".py",
   "mimetype": "text/x-python",
   "name": "python",
   "nbconvert_exporter": "python",
   "pygments_lexer": "ipython3",
   "version": "3.11.10"
  }
 },
 "nbformat": 4,
 "nbformat_minor": 5
}
