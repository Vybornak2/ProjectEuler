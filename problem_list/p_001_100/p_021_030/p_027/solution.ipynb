{
 "cells": [
  {
   "cell_type": "code",
   "execution_count": 1,
   "id": "e38cd89c",
   "metadata": {},
   "outputs": [
    {
     "data": {
      "text/markdown": [
       "# Problem 27\n",
       "\n",
       "[**Quadratic Primes**](https://projecteuler.net/problem=27)\n",
       "\n",
       "## Description:\n",
       "Euler discovered the remarkable quadratic formula:\n",
       "$$ n^2 + n + 41 $$\n",
       "\n",
       "It turns out that the formula will produce $ 40 $ primes for the consecutive integer values $ 0 \\le n \\le 39 $. \\\n",
       "However, when $ n = 40, 40^2 + 40 + 41 = 40(40 + 1) + 41 $ is divisible by $ 41 $, and certainly when $ n = 41, 41^2 + 41 + 41 $ is clearly divisible by $ 41 $.\n",
       "\n",
       "The incredible formula:\n",
       "$$ n^2 - 79n + 1601 $$ \n",
       "\n",
       "was discovered, which produces $ 80 $ primes for the consecutive values $ 0 \\le n \\le 79 $. \\\n",
       "The product of the coefficients, $ -79 $ and $ 1601 $, is $ -126479 $.\n",
       "\n",
       "Considering quadratics of the form:\n",
       "\n",
       "$ n^2 + an + b $, where $ |a| < 1000 $ and $ |b| \\le 1000 $\n",
       "\n",
       "where $ |n| $ is the modulus/absolute value of $ n $\n",
       "e.g. $ |11| = 11 $ and $ |-4| = 4 $\n",
       "\n",
       "## Task:\n",
       "Find the product of the coefficients, $ a $ and $ b $, for the quadratic expression that produces the maximum number of primes for consecutive values of $ n $, starting with $ n = 0 $.\n",
       "\n"
      ],
      "text/plain": [
       "<IPython.core.display.Markdown object>"
      ]
     },
     "metadata": {},
     "output_type": "display_data"
    }
   ],
   "source": [
    "from IPython.display import Markdown, display\n",
    "\n",
    "with open(\"description.md\", \"r\") as file:\n",
    "    md_content = file.read()\n",
    "display(Markdown(md_content))"
   ]
  },
  {
   "cell_type": "markdown",
   "id": "09909db8",
   "metadata": {},
   "source": [
    "## Solution\n",
    "\n",
    "- $ b $ values have to be primes\n",
    "$$ 0 + 0 + b = prime $$\n",
    "\n",
    "- $ a $ values have to be odd, because b values are odd (except for 2) as all primes except for 2 are odd\n",
    "$$\n",
    "1 + a \\cdot 1 + b = prime \\\\\n",
    "odd + a + odd = odd \\to a = odd\n",
    "$$\n",
    "\n",
    "- we iterate with n from 0 as long as we have more than one pair of $ (a,b) $\n",
    "- values $ (a,b) $ that do not produce prime for given n are omitted\n"
   ]
  },
  {
   "cell_type": "code",
   "execution_count": 31,
   "id": "01eddb5e",
   "metadata": {},
   "outputs": [],
   "source": [
    "import numpy as np\n",
    "\n",
    "np.set_printoptions(\n",
    "    linewidth=1000, edgeitems=10, formatter={\"all\": lambda x: f\"{x:4.0f}\"}\n",
    ")\n",
    "\n",
    "\n",
    "def get_primes_up_to_number(max_prime):\n",
    "    if max_prime < 2:\n",
    "        return []\n",
    "\n",
    "    not_a_prime = np.zeros(max_prime, dtype=bool)\n",
    "    not_a_prime[:2] = True  # 0 and 1 are not primes\n",
    "    primes = []\n",
    "\n",
    "    for number in range(2, int(np.sqrt(max_prime)) + 1):\n",
    "        if not not_a_prime[number]:\n",
    "            not_a_prime[number * number : max_prime : number] = True\n",
    "\n",
    "    primes = np.nonzero(~not_a_prime)[0]\n",
    "    return primes\n",
    "\n",
    "\n",
    "PRIMES = get_primes_up_to_number(100_000)\n",
    "PRIMES = PRIMES[1:]  # remove 2\n",
    "\n",
    "\n",
    "def evaluate_quadratic_formula(a, b, n):\n",
    "    return n**2 + a * n + b\n",
    "\n",
    "\n",
    "def main(debug=False):\n",
    "    limit = 1_000\n",
    "\n",
    "    b = get_primes_up_to_number(limit)\n",
    "    a = np.arange(-limit + 1, limit, 2)\n",
    "\n",
    "    a, b = np.meshgrid(a, b)\n",
    "    a = a.flatten()\n",
    "    b = b.flatten()\n",
    "\n",
    "    n = 0\n",
    "    while (b.shape[0] > 1) and (n < limit):\n",
    "        if debug:\n",
    "            print(f\"n = {n}\")\n",
    "            print(\"a = \", a)\n",
    "            print(\"b = \", b)\n",
    "\n",
    "        results = evaluate_quadratic_formula(a, b, n)\n",
    "        mask = np.isin(results, PRIMES)\n",
    "\n",
    "        a = a[mask]\n",
    "        b = b[mask]\n",
    "        n += 1\n",
    "\n",
    "    print(f\"n^2 + {a[0]} * n + {b[0]} produces {n} primes\")\n",
    "    print(f\"Product of a and b is {a[0] * b[0]}\")"
   ]
  },
  {
   "cell_type": "code",
   "execution_count": 18,
   "id": "257bc38a",
   "metadata": {},
   "outputs": [
    {
     "name": "stdout",
     "output_type": "stream",
     "text": [
      "16.4 ms ± 64 μs per loop (mean ± std. dev. of 7 runs, 100 loops each)\n"
     ]
    }
   ],
   "source": [
    "%%timeit\n",
    "main()"
   ]
  },
  {
   "cell_type": "code",
   "execution_count": 32,
   "id": "ad711481",
   "metadata": {},
   "outputs": [
    {
     "name": "stdout",
     "output_type": "stream",
     "text": [
      "n^2 + -61 * n + 971 produces 71 primes\n",
      "Product of a and b is -59231\n"
     ]
    }
   ],
   "source": [
    "main()"
   ]
  }
 ],
 "metadata": {
  "kernelspec": {
   "display_name": ".venv",
   "language": "python",
   "name": "python3"
  },
  "language_info": {
   "codemirror_mode": {
    "name": "ipython",
    "version": 3
   },
   "file_extension": ".py",
   "mimetype": "text/x-python",
   "name": "python",
   "nbconvert_exporter": "python",
   "pygments_lexer": "ipython3",
   "version": "3.11.10"
  }
 },
 "nbformat": 4,
 "nbformat_minor": 5
}
