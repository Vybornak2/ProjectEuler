{
 "cells": [
  {
   "cell_type": "code",
   "execution_count": 2,
   "id": "e38cd89c",
   "metadata": {},
   "outputs": [
    {
     "data": {
      "text/markdown": [
       "# Problem 22\n",
       "\n",
       "[**Names Scores**](https://projecteuler.net/problem=22)\n",
       "\n",
       "## Description:\n",
       "Using names.txt, a 46K text file containing over five-thousand first names, begin by sorting it into alphabetical order. Then working out the alphabetical value for each name, multiply this value by its alphabetical position in the list to obtain a name score.\n",
       "\n",
       "For example, when the list is sorted into alphabetical order, COLIN, which is worth $ 3 + 15 + 12 + 9 + 14 = 53 $, is the 938th name in the list. So, COLIN would obtain a score of $ 938 \\cdot 53 = 49714 $.\n",
       "\n",
       "## Task:\n",
       "What is the total of all the name scores in the file?\n",
       "\n"
      ],
      "text/plain": [
       "<IPython.core.display.Markdown object>"
      ]
     },
     "metadata": {},
     "output_type": "display_data"
    }
   ],
   "source": [
    "from IPython.display import Markdown, display\n",
    "\n",
    "with open(\"description.md\", \"r\") as file:\n",
    "    md_content = file.read()\n",
    "display(Markdown(md_content))"
   ]
  },
  {
   "cell_type": "markdown",
   "id": "09909db8",
   "metadata": {},
   "source": [
    "## Solution using Pandas\n",
    "\n",
    "- if names patterns would reoccur it might be possible to optimize the process by a little, but I do not think it is worth it"
   ]
  },
  {
   "cell_type": "code",
   "execution_count": 31,
   "id": "01eddb5e",
   "metadata": {},
   "outputs": [],
   "source": [
    "import pandas as pd\n",
    "\n",
    "\n",
    "def get_name_score(name):\n",
    "    return sum([ord(char) - 64 for char in name])\n",
    "\n",
    "\n",
    "def main():\n",
    "    with open(\"names.txt\", \"r\") as file:\n",
    "        text = file.read()\n",
    "\n",
    "    names = (\n",
    "        pd.DataFrame(text.replace('\"', \"\").split(\",\"), columns=[\"name\"])\n",
    "        .sort_values(by=\"name\")\n",
    "        .reset_index(drop=True)\n",
    "    )\n",
    "\n",
    "    names[\"name_score\"] = names[\"name\"].apply(get_name_score)\n",
    "    names[\"total_score\"] = names[\"name_score\"] * (names.index + 1)\n",
    "    return int(names[\"total_score\"].sum())\n"
   ]
  },
  {
   "cell_type": "code",
   "execution_count": 29,
   "id": "257bc38a",
   "metadata": {},
   "outputs": [
    {
     "name": "stdout",
     "output_type": "stream",
     "text": [
      "8.23 ms ± 303 μs per loop (mean ± std. dev. of 7 runs, 100 loops each)\n"
     ]
    }
   ],
   "source": [
    "%%timeit\n",
    "main()"
   ]
  },
  {
   "cell_type": "code",
   "execution_count": 30,
   "id": "ad711481",
   "metadata": {},
   "outputs": [
    {
     "data": {
      "text/plain": [
       "871198282"
      ]
     },
     "execution_count": 30,
     "metadata": {},
     "output_type": "execute_result"
    }
   ],
   "source": [
    "main()"
   ]
  }
 ],
 "metadata": {
  "kernelspec": {
   "display_name": ".venv",
   "language": "python",
   "name": "python3"
  },
  "language_info": {
   "codemirror_mode": {
    "name": "ipython",
    "version": 3
   },
   "file_extension": ".py",
   "mimetype": "text/x-python",
   "name": "python",
   "nbconvert_exporter": "python",
   "pygments_lexer": "ipython3",
   "version": "3.11.10"
  }
 },
 "nbformat": 4,
 "nbformat_minor": 5
}
