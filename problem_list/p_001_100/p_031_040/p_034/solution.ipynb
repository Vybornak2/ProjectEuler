{
 "cells": [
  {
   "cell_type": "code",
   "execution_count": 1,
   "id": "e38cd89c",
   "metadata": {},
   "outputs": [
    {
     "data": {
      "text/markdown": [
       "# Problem 34\n",
       "\n",
       "[**Digit Factorials**](https://projecteuler.net/problem=34)\n",
       "\n",
       "## Description:\n",
       "$145$ is a curious number, as $1! + 4! + 5! = 1 + 24 + 120 = 145$.\n",
       "\n",
       "## Task:\n",
       "Find the sum of all numbers which are equal to the sum of the factorial of their digits.\n",
       "\n",
       "_Note: As $1$ and $2$ are not sums they are not included._\n",
       "\n"
      ],
      "text/plain": [
       "<IPython.core.display.Markdown object>"
      ]
     },
     "metadata": {},
     "output_type": "display_data"
    }
   ],
   "source": [
    "from IPython.display import Markdown, display\n",
    "\n",
    "with open(\"description.md\", \"r\") as file:\n",
    "    md_content = file.read()\n",
    "display(Markdown(md_content))"
   ]
  },
  {
   "cell_type": "markdown",
   "id": "09909db8",
   "metadata": {},
   "source": [
    "## Brute-force Solution"
   ]
  },
  {
   "cell_type": "markdown",
   "id": "78d71aab",
   "metadata": {},
   "source": [
    "### Determining the maximum search number"
   ]
  },
  {
   "cell_type": "code",
   "execution_count": 8,
   "id": "76dbf5fa",
   "metadata": {},
   "outputs": [
    {
     "name": "stdout",
     "output_type": "stream",
     "text": [
      "f2(1) = 362880 > f1(1) = 9\n",
      "f2(2) = 725760 > f1(2) = 99\n",
      "f2(3) = 1088640 > f1(3) = 999\n",
      "f2(4) = 1451520 > f1(4) = 9999\n",
      "f2(5) = 1814400 > f1(5) = 99999\n",
      "f2(6) = 2177280 > f1(6) = 999999\n",
      "f2(7) = 2540160 < f1(7) = 9999999\n"
     ]
    }
   ],
   "source": [
    "from math import factorial\n",
    "\n",
    "FACT9 = factorial(9)\n",
    "\n",
    "\n",
    "def f1(x):\n",
    "    return int(\"9\" * x)\n",
    "\n",
    "\n",
    "def f2(x):\n",
    "    return x * FACT9\n",
    "\n",
    "\n",
    "i = 1\n",
    "while f1(i) < f2(i):\n",
    "    print(f\"f2({i}) = {f2(i)} > f1({i}) = {f1(i)}\")\n",
    "    i += 1\n",
    "\n",
    "print(f\"f2({i}) = {f2(i)} < f1({i}) = {f1(i)}\")"
   ]
  },
  {
   "cell_type": "code",
   "execution_count": 19,
   "id": "01eddb5e",
   "metadata": {},
   "outputs": [],
   "source": [
    "from math import factorial\n",
    "\n",
    "factorials = [factorial(i) for i in range(10)]\n",
    "\n",
    "\n",
    "def main():\n",
    "    max_num = 7 * factorials[9]\n",
    "    curious_numbers = []\n",
    "    for i in range(3, int(max_num)):\n",
    "        sum_of_factorials = sum([factorials[int(digit)] for digit in str(i)])\n",
    "        if sum_of_factorials == i:\n",
    "            curious_numbers.append(i)\n",
    "\n",
    "    return sum(curious_numbers)"
   ]
  },
  {
   "cell_type": "code",
   "execution_count": 18,
   "id": "257bc38a",
   "metadata": {},
   "outputs": [
    {
     "name": "stdout",
     "output_type": "stream",
     "text": [
      "3.18 s ± 56.3 ms per loop (mean ± std. dev. of 7 runs, 1 loop each)\n"
     ]
    }
   ],
   "source": [
    "%%timeit\n",
    "main()"
   ]
  },
  {
   "cell_type": "code",
   "execution_count": 20,
   "id": "ad711481",
   "metadata": {},
   "outputs": [
    {
     "data": {
      "text/plain": [
       "40730"
      ]
     },
     "execution_count": 20,
     "metadata": {},
     "output_type": "execute_result"
    }
   ],
   "source": [
    "main()"
   ]
  }
 ],
 "metadata": {
  "kernelspec": {
   "display_name": "Python 3",
   "language": "python",
   "name": "python3"
  },
  "language_info": {
   "codemirror_mode": {
    "name": "ipython",
    "version": 3
   },
   "file_extension": ".py",
   "mimetype": "text/x-python",
   "name": "python",
   "nbconvert_exporter": "python",
   "pygments_lexer": "ipython3",
   "version": "3.11.9"
  }
 },
 "nbformat": 4,
 "nbformat_minor": 5
}
