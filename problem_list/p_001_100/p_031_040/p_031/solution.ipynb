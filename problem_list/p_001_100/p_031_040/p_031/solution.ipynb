{
 "cells": [
  {
   "cell_type": "code",
   "execution_count": null,
   "id": "e38cd89c",
   "metadata": {},
   "outputs": [
    {
     "data": {
      "text/markdown": [
       "# Problem 31\n",
       "\n",
       "[**Coin Sums**](https://projecteuler.net/problem=31)\n",
       "\n",
       "## Description:\n",
       "In the United Kingdom the currency is made up of pound (£) and pence (p). There are eight coins in general circulation:\n",
       "\n",
       "1p, 2p, 5p, 10p, 20p, 50p, £1 (100p), and £2 (200p).\n",
       "It is possible to make £2 in the following way:\n",
       "\n",
       "1×£1 + 1×50p + 2×20p + 1×5p + 1×2p + 3×1p\n",
       "\n",
       "## Task:\n",
       "How many different ways can £2 be made using any number of coins?\n",
       "\n"
      ],
      "text/plain": [
       "<IPython.core.display.Markdown object>"
      ]
     },
     "metadata": {},
     "output_type": "display_data"
    }
   ],
   "source": [
    "from IPython.display import Markdown, display\n",
    "\n",
    "with open(\"description.md\", \"r\", encoding=\"utf-8\") as file:\n",
    "    md_content = file.read()\n",
    "display(Markdown(md_content))"
   ]
  },
  {
   "cell_type": "markdown",
   "id": "09909db8",
   "metadata": {},
   "source": [
    "## Brute-force Solution\n",
    "\n",
    "- quite efficient itself"
   ]
  },
  {
   "cell_type": "code",
   "execution_count": 45,
   "id": "01eddb5e",
   "metadata": {},
   "outputs": [],
   "source": [
    "def main():\n",
    "    coins = [1, 2, 5, 10, 20, 50, 100, 200]\n",
    "    target = 200\n",
    "\n",
    "    ways = [1] + [0] * target\n",
    "    for coin in coins:\n",
    "        for i in range(coin, target + 1):\n",
    "            ways[i] += ways[i - coin]\n",
    "\n",
    "    return ways[target]"
   ]
  },
  {
   "cell_type": "code",
   "execution_count": 46,
   "id": "257bc38a",
   "metadata": {},
   "outputs": [
    {
     "name": "stdout",
     "output_type": "stream",
     "text": [
      "67.5 μs ± 585 ns per loop (mean ± std. dev. of 7 runs, 10,000 loops each)\n"
     ]
    }
   ],
   "source": [
    "%%timeit\n",
    "main()"
   ]
  },
  {
   "cell_type": "code",
   "execution_count": 47,
   "id": "ad711481",
   "metadata": {},
   "outputs": [
    {
     "data": {
      "text/plain": [
       "73682"
      ]
     },
     "execution_count": 47,
     "metadata": {},
     "output_type": "execute_result"
    }
   ],
   "source": [
    "main()"
   ]
  }
 ],
 "metadata": {
  "kernelspec": {
   "display_name": ".venv",
   "language": "python",
   "name": "python3"
  },
  "language_info": {
   "codemirror_mode": {
    "name": "ipython",
    "version": 3
   },
   "file_extension": ".py",
   "mimetype": "text/x-python",
   "name": "python",
   "nbconvert_exporter": "python",
   "pygments_lexer": "ipython3",
   "version": "3.11.10"
  }
 },
 "nbformat": 4,
 "nbformat_minor": 5
}
