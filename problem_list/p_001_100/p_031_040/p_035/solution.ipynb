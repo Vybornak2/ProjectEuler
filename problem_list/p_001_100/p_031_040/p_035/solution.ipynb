{
 "cells": [
  {
   "cell_type": "code",
   "execution_count": 63,
   "id": "e38cd89c",
   "metadata": {},
   "outputs": [
    {
     "data": {
      "text/markdown": [
       "# Problem 35\n",
       "\n",
       "[**Circular Primes**](https://projecteuler.net/problem=35)\n",
       "\n",
       "## Description:\n",
       "The number, $197$, is called a circular prime because all rotations of the digits: $197$, $971$, and $719$, are themselves prime.\n",
       "\n",
       "There are thirteen such primes below $100$: $2$, $3$, $5$, $7$, $11$, $13$, $17$, $31$, $37$, $71$, $73$, $79$, and $97$. \n",
       "\n",
       "## Task:\n",
       "How many circular primes are there below one million?\n",
       "\n"
      ],
      "text/plain": [
       "<IPython.core.display.Markdown object>"
      ]
     },
     "metadata": {},
     "output_type": "display_data"
    }
   ],
   "source": [
    "from IPython.display import Markdown, display\n",
    "\n",
    "with open(\"description.md\", \"r\") as file:\n",
    "    md_content = file.read()\n",
    "display(Markdown(md_content))"
   ]
  },
  {
   "cell_type": "markdown",
   "id": "09909db8",
   "metadata": {},
   "source": [
    "## Brute-force Solution"
   ]
  },
  {
   "cell_type": "code",
   "execution_count": null,
   "id": "01eddb5e",
   "metadata": {},
   "outputs": [],
   "source": [
    "from sympy import primerange\n",
    "import pandas as pd\n",
    "\n",
    "ALL_PRIMES = pd.Series(data=primerange(2, 1_000_000))\n",
    "\n",
    "\n",
    "def main():\n",
    "    filtered_primes = ALL_PRIMES[~ALL_PRIMES.astype(str).str.contains(\"[245680]\")]\n",
    "\n",
    "    circular_primes = {2, 5}\n",
    "\n",
    "    for prime in filtered_primes:\n",
    "        prime_str = str(prime)\n",
    "        is_circular = True\n",
    "\n",
    "        for i in range(1, len(prime_str)):\n",
    "            rotated_prime = int(prime_str[i:] + prime_str[:i])\n",
    "            if rotated_prime not in filtered_primes.values:\n",
    "                is_circular = False\n",
    "                break\n",
    "\n",
    "        if is_circular:\n",
    "            circular_primes.add(prime)\n",
    "\n",
    "    return len(circular_primes)"
   ]
  },
  {
   "cell_type": "code",
   "execution_count": 37,
   "id": "257bc38a",
   "metadata": {},
   "outputs": [
    {
     "name": "stdout",
     "output_type": "stream",
     "text": [
      "61.7 ms ± 3.68 ms per loop (mean ± std. dev. of 7 runs, 10 loops each)\n"
     ]
    }
   ],
   "source": [
    "%%timeit\n",
    "main()"
   ]
  },
  {
   "cell_type": "code",
   "execution_count": 36,
   "id": "ad711481",
   "metadata": {},
   "outputs": [
    {
     "data": {
      "text/plain": [
       "55"
      ]
     },
     "execution_count": 36,
     "metadata": {},
     "output_type": "execute_result"
    }
   ],
   "source": [
    "main()"
   ]
  },
  {
   "cell_type": "markdown",
   "id": "9c2ff208",
   "metadata": {},
   "source": [
    "## Solution utilizing vectorization\n",
    "- actually does not beat previous solution by much"
   ]
  },
  {
   "cell_type": "code",
   "execution_count": 66,
   "id": "9503f40b",
   "metadata": {},
   "outputs": [],
   "source": [
    "import pandas as pd\n",
    "\n",
    "\n",
    "def generate_rotations(num):\n",
    "    num_str = str(num)\n",
    "    return {int(num_str[i:] + num_str[:i]) for i in range(len(num_str))}\n",
    "\n",
    "\n",
    "def main2():\n",
    "    filtered_primes = ALL_PRIMES[~ALL_PRIMES.astype(str).str.contains(\"[245680]\")]\n",
    "    filtered_primes = filtered_primes.astype(int)\n",
    "\n",
    "    circular_primes = {2, 5}\n",
    "\n",
    "    grouped_primes = filtered_primes.groupby(filtered_primes.astype(str).str.len())\n",
    "\n",
    "    for _, group in grouped_primes:\n",
    "        primes_set = set(group.values)\n",
    "        rotations_set = group.apply(generate_rotations)\n",
    "\n",
    "        for rotations in rotations_set:\n",
    "            if rotations.issubset(primes_set):\n",
    "                circular_primes.update(rotations)\n",
    "\n",
    "    return len(circular_primes)"
   ]
  },
  {
   "cell_type": "code",
   "execution_count": 67,
   "id": "ff204899",
   "metadata": {},
   "outputs": [
    {
     "name": "stdout",
     "output_type": "stream",
     "text": [
      "55.3 ms ± 871 μs per loop (mean ± std. dev. of 7 runs, 10 loops each)\n"
     ]
    }
   ],
   "source": [
    "%%timeit\n",
    "main2()"
   ]
  },
  {
   "cell_type": "code",
   "execution_count": 58,
   "id": "dad7e30a",
   "metadata": {},
   "outputs": [
    {
     "data": {
      "text/plain": [
       "55"
      ]
     },
     "execution_count": 58,
     "metadata": {},
     "output_type": "execute_result"
    }
   ],
   "source": [
    "main2()"
   ]
  }
 ],
 "metadata": {
  "kernelspec": {
   "display_name": ".venv",
   "language": "python",
   "name": "python3"
  },
  "language_info": {
   "codemirror_mode": {
    "name": "ipython",
    "version": 3
   },
   "file_extension": ".py",
   "mimetype": "text/x-python",
   "name": "python",
   "nbconvert_exporter": "python",
   "pygments_lexer": "ipython3",
   "version": "3.11.11"
  }
 },
 "nbformat": 4,
 "nbformat_minor": 5
}
