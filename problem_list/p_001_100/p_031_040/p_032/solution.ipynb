{
 "cells": [
  {
   "cell_type": "code",
   "execution_count": null,
   "id": "e38cd89c",
   "metadata": {},
   "outputs": [
    {
     "data": {
      "text/markdown": [
       "# Problem 32\n",
       "\n",
       "[**Pandigital Products**](https://projecteuler.net/problem=32)\n",
       "\n",
       "## Description:\n",
       "We shall say that an $n$ -digit number is pandigital if it makes use of all the digits $1$ to $n$ exactly once; for example, the $5$-digit number, $15234$, is $1$ through $5$ pandigital.\n",
       "\n",
       "The product 7254 is unusual, as the identity, $39 \\times 186 = 7254$, containing multiplicand, multiplier, and product is $1$ through $9$ pandigital.\n",
       "\n",
       "\n",
       "## Task:\n",
       "Find the sum of all products whose multiplicand/multiplier/product identity can be written as a $1$ through $9$ pandigital.\n",
       "\n",
       "## Hint:\n",
       "Some products can be obtained in more than one way so be sure to only include it once in your sum.\n",
       "\n"
      ],
      "text/plain": [
       "<IPython.core.display.Markdown object>"
      ]
     },
     "metadata": {},
     "output_type": "display_data"
    }
   ],
   "source": [
    "from IPython.display import Markdown, display\n",
    "\n",
    "with open(\"description.md\", \"r\") as file:\n",
    "    md_content = file.read()\n",
    "display(Markdown(md_content))"
   ]
  },
  {
   "cell_type": "markdown",
   "id": "09909db8",
   "metadata": {},
   "source": [
    "## Brute-force Solution"
   ]
  },
  {
   "cell_type": "code",
   "execution_count": null,
   "id": "01eddb5e",
   "metadata": {},
   "outputs": [],
   "source": [
    "from itertools import permutations\n",
    "\n",
    "digits = \"123456789,,\"\n",
    "\n",
    "\n",
    "def main():\n",
    "    pandigital_products = set()\n",
    "    for p in permutations(digits):\n",
    "        s = \"\".join(p)\n",
    "        try:\n",
    "            n1, n2, n3 = map(int, s.split(\",\"))\n",
    "            if n1 * n2 == n3:\n",
    "                pandigital_products.add(n3)\n",
    "        except ValueError:\n",
    "            continue\n",
    "    return sum(pandigital_products)"
   ]
  },
  {
   "cell_type": "code",
   "execution_count": null,
   "id": "257bc38a",
   "metadata": {},
   "outputs": [
    {
     "name": "stdout",
     "output_type": "stream",
     "text": [
      "46 s ± 313 ms per loop (mean ± std. dev. of 7 runs, 1 loop each)\n"
     ]
    }
   ],
   "source": [
    "%%timeit\n",
    "main()"
   ]
  },
  {
   "cell_type": "code",
   "execution_count": null,
   "id": "ad711481",
   "metadata": {},
   "outputs": [],
   "source": [
    "main()"
   ]
  },
  {
   "cell_type": "markdown",
   "id": "9c2ff208",
   "metadata": {},
   "source": [
    "## Partially Optimized Solution\n",
    "- redundant comas removed"
   ]
  },
  {
   "cell_type": "code",
   "execution_count": null,
   "id": "9503f40b",
   "metadata": {},
   "outputs": [],
   "source": [
    "from itertools import permutations\n",
    "\n",
    "digits = \"123456789\"\n",
    "\n",
    "\n",
    "def main2():\n",
    "    pandigital_products = set()\n",
    "    for p in permutations(digits):\n",
    "        s = \"\".join(p)\n",
    "        for i in range(1, 8):\n",
    "            for j in range(i + 1, 9):\n",
    "                n1 = int(s[:i])\n",
    "                n2 = int(s[i:j])\n",
    "                n3 = int(s[j:])\n",
    "                if n1 * n2 == n3:\n",
    "                    pandigital_products.add(n3)\n",
    "    return sum(pandigital_products)"
   ]
  },
  {
   "cell_type": "code",
   "execution_count": null,
   "id": "ff204899",
   "metadata": {},
   "outputs": [
    {
     "name": "stdout",
     "output_type": "stream",
     "text": [
      "5.43 s ± 50.3 ms per loop (mean ± std. dev. of 7 runs, 1 loop each)\n"
     ]
    }
   ],
   "source": [
    "%%timeit\n",
    "main2()"
   ]
  },
  {
   "cell_type": "code",
   "execution_count": null,
   "id": "dad7e30a",
   "metadata": {},
   "outputs": [],
   "source": [
    "main2()"
   ]
  },
  {
   "cell_type": "markdown",
   "id": "9c2ff208",
   "metadata": {},
   "source": [
    "## Optimized Solution\n",
    "- Direct iteration over possible multiplicand and multiplier values"
   ]
  },
  {
   "cell_type": "code",
   "execution_count": null,
   "id": "9503f40b",
   "metadata": {},
   "outputs": [],
   "source": [
    "def is_pandigital(num_str):\n",
    "    return len(num_str) == 9 and set(num_str) == set(\"123456789\")\n",
    "\n",
    "\n",
    "def main3():\n",
    "    pandigital_products = set()\n",
    "    for n1 in range(1, 100):\n",
    "        for n2 in range(100, 10000 // n1):\n",
    "            product = n1 * n2\n",
    "            combined = f\"{n1}{n2}{product}\"\n",
    "            if is_pandigital(combined):\n",
    "                pandigital_products.add(product)\n",
    "    return sum(pandigital_products)"
   ]
  },
  {
   "cell_type": "code",
   "execution_count": null,
   "id": "5a69e737",
   "metadata": {},
   "outputs": [],
   "source": [
    "%%timeit\n",
    "main3()"
   ]
  },
  {
   "cell_type": "code",
   "execution_count": null,
   "id": "ba20352c",
   "metadata": {},
   "outputs": [],
   "source": [
    "main3()"
   ]
  }
 ],
 "metadata": {
  "kernelspec": {
   "display_name": "Python 3",
   "language": "python",
   "name": "python3"
  },
  "language_info": {
   "codemirror_mode": {
    "name": "ipython",
    "version": 3
   },
   "file_extension": ".py",
   "mimetype": "text/x-python",
   "name": "python",
   "nbconvert_exporter": "python",
   "pygments_lexer": "ipython3",
   "version": "3.11.9"
  }
 },
 "nbformat": 4,
 "nbformat_minor": 5
}
