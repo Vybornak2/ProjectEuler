{
 "cells": [
  {
   "cell_type": "code",
   "execution_count": 1,
   "id": "e38cd89c",
   "metadata": {},
   "outputs": [
    {
     "data": {
     },
     "metadata": {},
     "output_type": "display_data"
    }
   ],
   "source": [
    "from IPython.display import Markdown, display\n",
    "\n",
    "with open(\"description.md\", \"r\") as file:\n",
    "    md_content = file.read()\n",
    "display(Markdown(md_content))"
   ]
  },
  {
   "cell_type": "markdown",
   "id": "09909db8",
   "metadata": {},
   "source": [
    "## Solution\n",
    "\n",
    "### my approach:\n",
    "1. $ n = 0 \\to 0 + 0 + b = prime \\to b = prime $  \n",
    "2. $ b = prime \\land b \\in (0, 1000) $\n",
    "    - create array of primes between 0-1000 = possible b values\n",
    "3. create array of a - (-1000, 1000)\n",
    "4. start iterating n = 1, 2, ... with different a values, when criterion is not fulfilled drop a from a array"
   ]
  },
  {
   "cell_type": "code",
   "execution_count": null,
   "id": "01eddb5e",
   "metadata": {},
   "outputs": [],
   "source": [
    "from re import T\n",
    "from cycler import V\n",
    "import numpy as np\n",
    "\n",
    "\n",
    "def get_primes_up_to_number(max_prime):\n",
    "    if max_prime < 2:\n",
    "        return []\n",
    "\n",
    "    not_a_prime = np.zeros(max_prime, dtype=bool)\n",
    "    not_a_prime[:2] = True  # 0 and 1 are not primes\n",
    "    primes = []\n",
    "\n",
    "    for number in range(2, int(np.sqrt(max_prime)) + 1):\n",
    "        if not not_a_prime[number]:\n",
    "            not_a_prime[number * number : max_prime : number] = True\n",
    "\n",
    "    primes = np.nonzero(~not_a_prime)[0]\n",
    "    return primes\n",
    "\n",
    "\n",
    "def evaluate_quadratic_formula(a, b, n):\n",
    "    return n**2 + a * n + b\n",
    "\n",
    "\n",
    "def main():\n",
    "    # limit = 1_000\n",
    "    limit = 100\n",
    "\n",
    "    b_coefficients = get_primes_up_to_number(limit)\n",
    "    a_coefficients = np.arange(-limit + 1, limit)\n",
    "\n",
    "    print(b_coefficients.shape)\n",
    "\n",
    "    print(b_coefficients)\n",
    "    print(a_coefficients)\n",
    "\n",
    "    n = 0\n",
    "\n",
    "    while (b_coefficients.shape[0] > 1) and (n < 1):\n",
    "        a, b = np.meshgrid(a_coefficients, b_coefficients, indexing='ij')\n",  # Fix meshgrid function
    "        print(a, b)\n",
    "        # values = np.zeros(a_coefficients.shape[0], b_coefficients.shape[0])\n",
    "        # print(values)\n",
    "        n += 1\n",
    "        print(n)"
   ]
  },
  {
   "cell_type": "code",
   "execution_count": 5,
   "id": "257bc38a",
   "metadata": {},
   "outputs": [
    {
     "name": "stdout",
     "output_type": "stream",
     "text": [
     ]
    }
   ],
   "source": [
    "%%timeit\n",
    "main()"
   ]
  },
  {
   "cell_type": "code",
   "execution_count": 14,
   "id": "ad711481",
   "metadata": {},
   "outputs": [
    {
     "name": "stdout",
     "output_type": "stream",
    },
    {
    }
   ],
   "source": [
    "main()"
   ]
  },
  {
   "cell_type": "markdown",
   "id": "9c2ff208",
   "metadata": {},
   "source": [
    "## Optimized Solution\n",
    "- notes  "
   ]
  },
  {
   "cell_type": "code",
   "execution_count": null,
   "id": "9503f40b",
   "metadata": {},
   "outputs": [],
   "source": [
    "def main2():\n",
    "    pass"
   ]
  },
  {
   "cell_type": "code",
   "execution_count": null,
   "id": "ff204899",
   "metadata": {},
   "outputs": [],
   "source": [
    "%%timeit\n",
    "main2()"
   ]
  },
  {
   "cell_type": "code",
   "execution_count": null,
   "id": "dad7e30a",
   "metadata": {},
   "outputs": [],
   "source": [
    "main2()"
   ]
  }
 ],
 "metadata": {
  "kernelspec": {
   "display_name": ".venv",
   "language": "python",
   "name": "python3"
  },
  "language_info": {
   "codemirror_mode": {
    "name": "ipython",
    "version": 3
   },
   "file_extension": ".py",
   "mimetype": "text/x-python",
   "name": "python",
   "nbconvert_exporter": "python",
   "pygments_lexer": "ipython3",
   "version": "3.11.10"
  }
 },
 "nbformat": 4,
 "nbformat_minor": 5
}
