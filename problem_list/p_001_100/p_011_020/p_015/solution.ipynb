{
 "cells": [
  {
   "cell_type": "code",
   "execution_count": 1,
   "id": "e38cd89c",
   "metadata": {},
   "outputs": [
    {
     "data": {
      "text/markdown": [
       "# Problem 15\n",
       "\n",
       "[**Lattice Paths**](https://projecteuler.net/problem=15)\n",
       "\n",
       "## Description:\n",
       "Starting in the top left corner of a 2 x 2 grid, and only being able to move to the right and down, there are exactly 6 routes to the bottom right corner.\n",
       "\n",
       "![image](problem_image.png)\n",
       "\n",
       "## Task:\n",
       "How many such routes are there through a 20 x 20 grid?\n"
      ],
      "text/plain": [
       "<IPython.core.display.Markdown object>"
      ]
     },
     "metadata": {},
     "output_type": "display_data"
    }
   ],
   "source": [
    "from IPython.display import Markdown, display\n",
    "\n",
    "with open(\"describtion.md\", \"r\") as file:\n",
    "    md_content = file.read()\n",
    "display(Markdown(md_content))"
   ]
  },
  {
   "cell_type": "markdown",
   "id": "551f4604",
   "metadata": {},
   "source": [
    "## Simple approach\n",
    "- gradually counts paths options for all cells\n",
    "- can be used to highlight character of problem through derived path matrix"
   ]
  },
  {
   "cell_type": "code",
   "execution_count": 15,
   "id": "eacd0e5b",
   "metadata": {},
   "outputs": [],
   "source": [
    "import numpy as np\n",
    "\n",
    "\n",
    "def get_possible_paths_matrix(size: int = 21) -> int:\n",
    "    A = np.zeros((size, size), dtype=np.int64)\n",
    "    A[0, :] = 1\n",
    "    A[:, 0] = 1\n",
    "\n",
    "    # this part sure can be optimized\n",
    "    for i in range(1, size):\n",
    "        for j in range(1, size):\n",
    "            A[i, j] = A[i - 1, j] + A[i, j - 1]\n",
    "\n",
    "    return A\n",
    "\n",
    "\n",
    "def main(size: int = 21):\n",
    "    A = get_possible_paths_matrix(size)\n",
    "    return int(A[size - 1, size - 1])"
   ]
  },
  {
   "cell_type": "code",
   "execution_count": 16,
   "id": "0205301d",
   "metadata": {},
   "outputs": [
    {
     "name": "stdout",
     "output_type": "stream",
     "text": [
      "158 μs ± 872 ns per loop (mean ± std. dev. of 7 runs, 10,000 loops each)\n"
     ]
    }
   ],
   "source": [
    "%%timeit\n",
    "main()"
   ]
  },
  {
   "cell_type": "code",
   "execution_count": 18,
   "id": "1c342a2e",
   "metadata": {},
   "outputs": [
    {
     "data": {
      "text/plain": [
       "array([[    1,     1,     1,     1,     1,     1,     1,     1,     1],\n",
       "       [    1,     2,     3,     4,     5,     6,     7,     8,     9],\n",
       "       [    1,     3,     6,    10,    15,    21,    28,    36,    45],\n",
       "       [    1,     4,    10,    20,    35,    56,    84,   120,   165],\n",
       "       [    1,     5,    15,    35,    70,   126,   210,   330,   495],\n",
       "       [    1,     6,    21,    56,   126,   252,   462,   792,  1287],\n",
       "       [    1,     7,    28,    84,   210,   462,   924,  1716,  3003],\n",
       "       [    1,     8,    36,   120,   330,   792,  1716,  3432,  6435],\n",
       "       [    1,     9,    45,   165,   495,  1287,  3003,  6435, 12870]])"
      ]
     },
     "execution_count": 18,
     "metadata": {},
     "output_type": "execute_result"
    }
   ],
   "source": [
    "get_possible_paths_matrix(9)"
   ]
  },
  {
   "cell_type": "code",
   "execution_count": 12,
   "id": "86e242c1",
   "metadata": {},
   "outputs": [
    {
     "data": {
      "text/plain": [
       "137846528820"
      ]
     },
     "execution_count": 12,
     "metadata": {},
     "output_type": "execute_result"
    }
   ],
   "source": [
    "main()"
   ]
  },
  {
   "cell_type": "markdown",
   "id": "eb852816",
   "metadata": {},
   "source": [
    "# Possible optimization\n",
    "\n",
    "A matrix displays character of numbers and branching options\n",
    "\n",
    "- first row ones\n",
    "- second natural numbers\n",
    "- third triangular \n",
    "- ...\n",
    "- $ 20^{th}$-simplex numbers\n",
    "\n",
    "This also corresponds to all possible combinations at that point"
   ]
  },
  {
   "cell_type": "code",
   "execution_count": 13,
   "id": "c5084ef4",
   "metadata": {},
   "outputs": [
    {
     "data": {
      "text/plain": [
       "137846528820"
      ]
     },
     "execution_count": 13,
     "metadata": {},
     "output_type": "execute_result"
    }
   ],
   "source": [
    "from math import comb\n",
    "\n",
    "\n",
    "def get_20th_simplex_number(n):\n",
    "    return comb(n + 19, 20)\n",
    "\n",
    "\n",
    "get_20th_simplex_number(21)\n"
   ]
  }
 ],
 "metadata": {
  "kernelspec": {
   "display_name": ".venv",
   "language": "python",
   "name": "python3"
  },
  "language_info": {
   "codemirror_mode": {
    "name": "ipython",
    "version": 3
   },
   "file_extension": ".py",
   "mimetype": "text/x-python",
   "name": "python",
   "nbconvert_exporter": "python",
   "pygments_lexer": "ipython3",
   "version": "3.11.10"
  }
 },
 "nbformat": 4,
 "nbformat_minor": 5
}
