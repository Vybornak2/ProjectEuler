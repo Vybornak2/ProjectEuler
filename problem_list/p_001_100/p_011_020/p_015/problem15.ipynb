{
 "cells": [
  {
   "cell_type": "code",
   "execution_count": 19,
   "metadata": {},
   "outputs": [
    {
     "name": "stdout",
     "output_type": "stream",
     "text": [
      "137846528820.0\n"
     ]
    }
   ],
   "source": [
    "import numpy as np\n",
    "\n",
    "Adim = 21\n",
    "\n",
    "A=np.zeros((Adim,Adim))\n",
    "for i in range(1,Adim):\n",
    "    A[0,i]=1\n",
    "    A[i,0]=1\n",
    "\n",
    "for i in range(1,Adim):\n",
    "    for j in range(1,Adim):\n",
    "        A[i,j]=A[i-1,j]+A[i,j-1]\n",
    "\n",
    "\n",
    "#print(A)\n",
    "print(A[Adim-1,Adim-1])\n",
    "    \n",
    "    \n",
    "\n",
    "\n"
   ]
  }
 ],
 "metadata": {
  "kernelspec": {
   "display_name": "Python 3.10.5 64-bit (windows store)",
   "language": "python",
   "name": "python3"
  },
  "language_info": {
   "codemirror_mode": {
    "name": "ipython",
    "version": 3
   },
   "file_extension": ".py",
   "mimetype": "text/x-python",
   "name": "python",
   "nbconvert_exporter": "python",
   "pygments_lexer": "ipython3",
   "version": "3.10.5"
  },
  "orig_nbformat": 4,
  "vscode": {
   "interpreter": {
    "hash": "a6bcdcf53b9ee3067982790aa2c97e682ededee60a11df577b97878d369a0d54"
   }
  }
 },
 "nbformat": 4,
 "nbformat_minor": 2
}
