{
 "cells": [
  {
   "cell_type": "code",
   "execution_count": 2,
   "id": "e38cd89c",
   "metadata": {},
   "outputs": [
    {
     "data": {
      "text/markdown": [
       "# Problem 17\n",
       "\n",
       "[**Number Letter Counts**](https://projecteuler.net/problem=17)\n",
       "\n",
       "## Description:\n",
       "If the numbers 1 to 5 are written out in words: one, two, three, four, five, then there are $ 3 + 3 + 5 + 4 + 4 = 19 $ letters used in total.\n",
       "\n",
       "## Task:\n",
       "If all the numbers from 1 to 1000 (one thousand) inclusive were written out in words, how many letters would be used?\n",
       "\n",
       "### NOTE:\n",
       "Do not count spaces or hyphens.\n",
       "\n",
       "Example:  \n",
       "- 342 (three hundred and forty-two) contains 23 letters \n",
       "- 115 (one hundred and fifteen) contains 20 letters.\n",
       "\n",
       "The use of \"and\" when writing out numbers is in compliance with British usage.\n",
       "\n"
      ],
      "text/plain": [
       "<IPython.core.display.Markdown object>"
      ]
     },
     "metadata": {},
     "output_type": "display_data"
    }
   ],
   "source": [
    "from IPython.display import Markdown, display\n",
    "\n",
    "with open(\"description.md\", \"r\") as file:\n",
    "    md_content = file.read()\n",
    "display(Markdown(md_content))"
   ]
  },
  {
   "cell_type": "markdown",
   "id": "551f4604",
   "metadata": {},
   "source": [
    "## Simple approach"
   ]
  },
  {
   "cell_type": "code",
   "execution_count": 1,
   "id": "eacd0e5b",
   "metadata": {},
   "outputs": [
    {
     "name": "stdout",
     "output_type": "stream",
     "text": [
      "21124\n"
     ]
    }
   ],
   "source": [
    "import math\n",
    "from pprint import pprint\n",
    "import numpy as np\n",
    "\n",
    "count = 0\n",
    "\n",
    "number_names = {\n",
    "    0: {\n",
    "        0: \"\",\n",
    "        1: \"one\",\n",
    "        2: \"two\",\n",
    "        3: \"three\",\n",
    "        4: \"four\",\n",
    "        5: \"five\",\n",
    "        6: \"six\",\n",
    "        7: \"seven\",\n",
    "        8: \"eight\",\n",
    "        9: \"nine\",\n",
    "    },\n",
    "    1: {\n",
    "        10: \"ten\",\n",
    "        11: \"eleven\",\n",
    "        12: \"twelve\",\n",
    "        13: \"thirteen\",\n",
    "        14: \"fourteen\",\n",
    "        15: \"fifteen\",\n",
    "        16: \"sixteen\",\n",
    "        17: \"seventeen\",\n",
    "        18: \"eighteen\",\n",
    "        19: \"nineteen\",\n",
    "    },\n",
    "    2: {\n",
    "        20: \"twenty\",\n",
    "        30: \"thirty\",\n",
    "        40: \"forty\",\n",
    "        50: \"fifty\",\n",
    "        60: \"sixty\",\n",
    "        70: \"seventy\",\n",
    "        80: \"eighty\",\n",
    "        90: \"ninety\",\n",
    "    },\n",
    "    3: {100: \"hundred\"},\n",
    "    4: {1000: \"thousand\"},\n",
    "}\n",
    "number_names_len = {}\n",
    "\n",
    "for digit_class in number_names.keys():\n",
    "    number_names_len[digit_class] = {}\n",
    "    for number, number_name in number_names[digit_class].items():\n",
    "        number_names_len[digit_class][number] = len(number_name)\n",
    "\n",
    "number_class_len = {}\n",
    "for digit_class in number_names_len.keys():\n",
    "    number_class_len[digit_class] = sum(number_names_len[digit_class].values())\n",
    "\n",
    "# pprint(number_names_len)\n",
    "# print()\n",
    "# print(number_class_len)\n",
    "\n",
    "a = number_class_len\n",
    "\n",
    "# 0 - 9\n",
    "count = a[0]\n",
    "\n",
    "# 10 - 19\n",
    "count += a[1]\n",
    "\n",
    "# 20 - 99\n",
    "count += 10 * a[2]  # 10x twenty, 10x thirty ...\n",
    "count += 8 * a[0]  # twenty + one, two, three ...\n",
    "to_hundred = count\n",
    "\n",
    "# 100 - 999\n",
    "count += 9 * a[3] * 100  # 900x hundred\n",
    "count += a[0] * 100  # 100x one, 100x two\n",
    "count += 9 * to_hundred\n",
    "count += 891 * len(\"and\")\n",
    "\n",
    "# 1000\n",
    "count += a[4] + len(\"one\")\n",
    "\n",
    "print(count)"
   ]
  }
 ],
 "metadata": {
  "kernelspec": {
   "display_name": ".venv",
   "language": "python",
   "name": "python3"
  },
  "language_info": {
   "codemirror_mode": {
    "name": "ipython",
    "version": 3
   },
   "file_extension": ".py",
   "mimetype": "text/x-python",
   "name": "python",
   "nbconvert_exporter": "python",
   "pygments_lexer": "ipython3",
   "version": "3.11.10"
  }
 },
 "nbformat": 4,
 "nbformat_minor": 5
}
