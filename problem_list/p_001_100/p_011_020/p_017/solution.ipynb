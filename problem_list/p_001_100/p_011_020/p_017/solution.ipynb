{
 "cells": [
  {
   "cell_type": "code",
   "execution_count": 2,
   "id": "e38cd89c",
   "metadata": {},
   "outputs": [
    {
     "data": {
      "text/markdown": [
       "# Problem 17\n",
       "\n",
       "[**Number Letter Counts**](https://projecteuler.net/problem=17)\n",
       "\n",
       "## Description:\n",
       "If the numbers 1 to 5 are written out in words: one, two, three, four, five, then there are $ 3 + 3 + 5 + 4 + 4 = 19 $ letters used in total.\n",
       "\n",
       "## Task:\n",
       "If all the numbers from 1 to 1000 (one thousand) inclusive were written out in words, how many letters would be used?\n",
       "\n",
       "### NOTE:\n",
       "Do not count spaces or hyphens.\n",
       "\n",
       "Example:  \n",
       "- 342 (three hundred and forty-two) contains 23 letters \n",
       "- 115 (one hundred and fifteen) contains 20 letters.\n",
       "\n",
       "The use of \"and\" when writing out numbers is in compliance with British usage.\n",
       "\n"
      ],
      "text/plain": [
       "<IPython.core.display.Markdown object>"
      ]
     },
     "metadata": {},
     "output_type": "display_data"
    }
   ],
   "source": [
    "from IPython.display import Markdown, display\n",
    "\n",
    "with open(\"description.md\", \"r\") as file:\n",
    "    md_content = file.read()\n",
    "display(Markdown(md_content))"
   ]
  },
  {
   "cell_type": "markdown",
   "id": "551f4604",
   "metadata": {},
   "source": [
    "## Simple approach"
   ]
  },
  {
   "cell_type": "code",
   "execution_count": 3,
   "id": "eacd0e5b",
   "metadata": {},
   "outputs": [
    {
     "name": "stdout",
     "output_type": "stream",
     "text": [
      "21124\n"
     ]
    }
   ],
   "source": [
    "count = {\n",
    "    \"one\": 191,\n",
    "    \"two\": 190,\n",
    "    \"three\": 190,\n",
    "    \"four\": 190,\n",
    "    \"five\": 190,\n",
    "    \"six\": 190,\n",
    "    \"seven\": 190,\n",
    "    \"eight\": 190,\n",
    "    \"nine\": 190,\n",
    "    \"ten\": 10,\n",
    "    \"eleven\": 10,\n",
    "    \"twelve\": 10,\n",
    "    \"thirteen\": 10,\n",
    "    \"fourteen\": 10,\n",
    "    \"fifteen\": 10,\n",
    "    \"sixteen\": 10,\n",
    "    \"seventeen\": 10,\n",
    "    \"eighteen\": 10,\n",
    "    \"nineteen\": 10,\n",
    "    \"twenty\": 100,\n",
    "    \"thirty\": 100,\n",
    "    \"forty\": 100,\n",
    "    \"fifty\": 100,\n",
    "    \"sixty\": 100,\n",
    "    \"seventy\": 100,\n",
    "    \"eighty\": 100,\n",
    "    \"ninety\": 100,\n",
    "    \"hundred\": 900,\n",
    "    \"thousand\": 1,\n",
    "    \"and\": 891,\n",
    "}\n",
    "\n",
    "total = 0\n",
    "for key, value in count.items():\n",
    "    total += len(key) * value\n",
    "\n",
    "print(total)"
   ]
  }
 ],
 "metadata": {
  "kernelspec": {
   "display_name": ".venv",
   "language": "python",
   "name": "python3"
  },
  "language_info": {
   "codemirror_mode": {
    "name": "ipython",
    "version": 3
   },
   "file_extension": ".py",
   "mimetype": "text/x-python",
   "name": "python",
   "nbconvert_exporter": "python",
   "pygments_lexer": "ipython3",
   "version": "3.11.10"
  }
 },
 "nbformat": 4,
 "nbformat_minor": 5
}
