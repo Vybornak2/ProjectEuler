{
 "cells": [
  {
   "cell_type": "code",
   "execution_count": 4,
   "id": "e38cd89c",
   "metadata": {},
   "outputs": [
    {
     "data": {
      "text/markdown": [
       "# Problem 19\n",
       "\n",
       "[**Counting sundays**](https://projecteuler.net/problem=19)\n",
       "\n",
       "## Description:\n",
       "You are given the following information, but you may prefer to do some research for yourself.\n",
       "\n",
       "- 1 Jan 1900 was a Monday.\n",
       "- Thirty days has September, April, June and November.\n",
       "- All the rest have thirty-one,\n",
       "- Saving February alone, Which has twenty-eight, rain or shine and on leap years, twenty-nine.\n",
       "- A leap year occurs on any year evenly divisible by 4, but not on a century unless it is divisible by 400.\n",
       "\n",
       "## Task:\n",
       "How many Sundays fell on the first of the month during the twentieth century (1 Jan 1901 to 31 Dec 2000)?\n"
      ],
      "text/plain": [
       "<IPython.core.display.Markdown object>"
      ]
     },
     "metadata": {},
     "output_type": "display_data"
    }
   ],
   "source": [
    "from IPython.display import Markdown, display\n",
    "\n",
    "with open(\"description.md\", \"r\") as file:\n",
    "    md_content = file.read()\n",
    "display(Markdown(md_content))"
   ]
  },
  {
   "cell_type": "code",
   "execution_count": 7,
   "id": "eacd0e5b",
   "metadata": {},
   "outputs": [],
   "source": [
    "from datetime import datetime, timedelta\n",
    "\n",
    "\n",
    "def count_sundays_on_first_of_month(start_date, end_date):\n",
    "    start = datetime.strptime(start_date, \"%Y-%m-%d\")\n",
    "    end = datetime.strptime(end_date, \"%Y-%m-%d\")\n",
    "\n",
    "    one_day = timedelta(days=1)\n",
    "    sunday_count = 0\n",
    "\n",
    "    current_date = start\n",
    "    while current_date <= end:\n",
    "        if current_date.weekday() == 6 and current_date.day == 1:\n",
    "            sunday_count += 1\n",
    "        current_date += one_day\n",
    "\n",
    "    return sunday_count\n"
   ]
  },
  {
   "cell_type": "code",
   "execution_count": 9,
   "id": "ddd7719e",
   "metadata": {},
   "outputs": [
    {
     "data": {
      "text/plain": [
       "171"
      ]
     },
     "execution_count": 9,
     "metadata": {},
     "output_type": "execute_result"
    }
   ],
   "source": [
    "start_date = \"1901-01-01\"\n",
    "end_date = \"2000-12-31\"\n",
    "\n",
    "count_sundays_on_first_of_month(start_date, end_date)"
   ]
  }
 ],
 "metadata": {
  "kernelspec": {
   "display_name": ".venv",
   "language": "python",
   "name": "python3"
  },
  "language_info": {
   "codemirror_mode": {
    "name": "ipython",
    "version": 3
   },
   "file_extension": ".py",
   "mimetype": "text/x-python",
   "name": "python",
   "nbconvert_exporter": "python",
   "pygments_lexer": "ipython3",
   "version": "3.11.10"
  }
 },
 "nbformat": 4,
 "nbformat_minor": 5
}
