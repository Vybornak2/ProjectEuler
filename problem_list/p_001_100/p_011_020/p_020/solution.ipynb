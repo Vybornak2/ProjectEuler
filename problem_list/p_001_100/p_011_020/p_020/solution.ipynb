{
 "cells": [
  {
   "cell_type": "code",
   "execution_count": 1,
   "id": "e38cd89c",
   "metadata": {},
   "outputs": [
    {
     "data": {
      "text/markdown": [
       "# Problem 20\n",
       "\n",
       "[**Factorial digit sum**](https://projecteuler.net/problem=20)\n",
       "\n",
       "## Description:\n",
       "$ n! $ means $ n \\times (n - 1) \\times \\cdots \\times 3 \\times 2 \\times 1 $\n",
       "\n",
       "For example, $ 10! = 10 \\times 9 \\times \\cdots \\times 3 \\times 2 \\times 1 = 3628800 $, \n",
       "\n",
       "and the sum of the digits in the number $ 10! $ is $ 3 + 6 + 2 + 8 + 8 + 0 + 0 = 27 $.\n",
       "\n",
       "## Task:\n",
       "Find the sum of the digits in the number $ 100! $.\n"
      ],
      "text/plain": [
       "<IPython.core.display.Markdown object>"
      ]
     },
     "metadata": {},
     "output_type": "display_data"
    }
   ],
   "source": [
    "from IPython.display import Markdown, display\n",
    "\n",
    "with open(\"description.md\", \"r\") as file:\n",
    "    md_content = file.read()\n",
    "display(Markdown(md_content))"
   ]
  },
  {
   "cell_type": "code",
   "execution_count": 6,
   "id": "dc20a2fe",
   "metadata": {},
   "outputs": [],
   "source": [
    "from math import factorial\n",
    "\n",
    "\n",
    "def main(number: int = 100):\n",
    "    return sum(int(char) for char in str(factorial(100)))"
   ]
  },
  {
   "cell_type": "code",
   "execution_count": 7,
   "id": "eacd0e5b",
   "metadata": {},
   "outputs": [
    {
     "data": {
      "text/plain": [
       "648"
      ]
     },
     "execution_count": 7,
     "metadata": {},
     "output_type": "execute_result"
    }
   ],
   "source": [
    "main()"
   ]
  }
 ],
 "metadata": {
  "kernelspec": {
   "display_name": ".venv",
   "language": "python",
   "name": "python3"
  },
  "language_info": {
   "codemirror_mode": {
    "name": "ipython",
    "version": 3
   },
   "file_extension": ".py",
   "mimetype": "text/x-python",
   "name": "python",
   "nbconvert_exporter": "python",
   "pygments_lexer": "ipython3",
   "version": "3.11.10"
  }
 },
 "nbformat": 4,
 "nbformat_minor": 5
}
