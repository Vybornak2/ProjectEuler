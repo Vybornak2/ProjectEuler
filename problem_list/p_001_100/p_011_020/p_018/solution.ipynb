{
 "cells": [
  {
   "cell_type": "code",
   "execution_count": 69,
   "id": "e38cd89c",
   "metadata": {},
   "outputs": [
    {
     "data": {
      "text/markdown": [
       "# Problem 18\n",
       "\n",
       "[**Maximum Path Sum I**](https://projecteuler.net/problem=18)\n",
       "\n",
       "## Description:\n",
       "By starting at the top of the triangle below and moving to adjacent numbers on the row below, the maximum total from top to bottom is 23.\n",
       "\n",
       "![image](problem_image_1.png)\n",
       "\n",
       "That is, $ 3 + 7 + 4 + 9 = 23 $\n",
       "\n",
       "## Task:\n",
       "Find the maximum total from top to bottom of the triangle below:\n",
       "\n",
       "![image](problem_image_2.png)\n",
       "\n",
       "### NOTE:\n",
       "As there are only 16384 routes, it is possible to solve this problem by trying every route. However, Problem 67, is the same challenge with a triangle containing one-hundred rows; it cannot be solved by brute force, and requires a clever method! ;o)"
      ],
      "text/plain": [
       "<IPython.core.display.Markdown object>"
      ]
     },
     "metadata": {},
     "output_type": "display_data"
    }
   ],
   "source": [
    "from IPython.display import Markdown, display\n",
    "\n",
    "with open(\"description.md\", \"r\") as file:\n",
    "    md_content = file.read()\n",
    "display(Markdown(md_content))"
   ]
  },
  {
   "cell_type": "code",
   "execution_count": 70,
   "id": "eacd0e5b",
   "metadata": {},
   "outputs": [
    {
     "name": "stdout",
     "output_type": "stream",
     "text": [
      "[[4, 62, 98, 27, 23, 9, 70, 98, 73, 93, 38, 53, 60, 4, 23],\n",
      " [63, 66, 4, 68, 89, 53, 67, 30, 73, 16, 69, 87, 40, 31],\n",
      " [91, 71, 52, 38, 17, 14, 91, 43, 58, 50, 27, 29, 48],\n",
      " [70, 11, 33, 28, 77, 73, 17, 78, 39, 68, 17, 57],\n",
      " [53, 71, 44, 65, 25, 43, 91, 52, 97, 51, 14],\n",
      " [41, 48, 72, 33, 47, 32, 37, 16, 94, 29],\n",
      " [41, 41, 26, 56, 83, 40, 80, 70, 33],\n",
      " [99, 65, 4, 28, 6, 16, 70, 92],\n",
      " [88, 2, 77, 73, 7, 63, 67],\n",
      " [19, 1, 23, 75, 3, 34],\n",
      " [20, 4, 82, 47, 65],\n",
      " [18, 35, 87, 10],\n",
      " [17, 47, 82],\n",
      " [95, 64],\n",
      " [75]]\n"
     ]
    }
   ],
   "source": [
    "import pprint as pp\n",
    "\n",
    "triangle = [\n",
    "    [75],\n",
    "    [95, 64],\n",
    "    [17, 47, 82],\n",
    "    [18, 35, 87, 10],\n",
    "    [20, 4, 82, 47, 65],\n",
    "    [19, 1, 23, 75, 3, 34],\n",
    "    [88, 2, 77, 73, 7, 63, 67],\n",
    "    [99, 65, 4, 28, 6, 16, 70, 92],\n",
    "    [41, 41, 26, 56, 83, 40, 80, 70, 33],\n",
    "    [41, 48, 72, 33, 47, 32, 37, 16, 94, 29],\n",
    "    [53, 71, 44, 65, 25, 43, 91, 52, 97, 51, 14],\n",
    "    [70, 11, 33, 28, 77, 73, 17, 78, 39, 68, 17, 57],\n",
    "    [91, 71, 52, 38, 17, 14, 91, 43, 58, 50, 27, 29, 48],\n",
    "    [63, 66, 4, 68, 89, 53, 67, 30, 73, 16, 69, 87, 40, 31],\n",
    "    [4, 62, 98, 27, 23, 9, 70, 98, 73, 93, 38, 53, 60, 4, 23],\n",
    "]\n",
    "\n",
    "triangle = triangle[::-1]\n",
    "\n",
    "pp.pprint(triangle)\n"
   ]
  },
  {
   "cell_type": "code",
   "execution_count": 71,
   "id": "7ac57f28",
   "metadata": {},
   "outputs": [
    {
     "data": {
      "text/plain": [
       "array([[ 4, 62, 98, 27, 23,  9, 70, 98, 73, 93, 38, 53, 60,  4, 23],\n",
       "       [63, 66,  4, 68, 89, 53, 67, 30, 73, 16, 69, 87, 40, 31,  0],\n",
       "       [91, 71, 52, 38, 17, 14, 91, 43, 58, 50, 27, 29, 48,  0,  0],\n",
       "       [70, 11, 33, 28, 77, 73, 17, 78, 39, 68, 17, 57,  0,  0,  0],\n",
       "       [53, 71, 44, 65, 25, 43, 91, 52, 97, 51, 14,  0,  0,  0,  0],\n",
       "       [41, 48, 72, 33, 47, 32, 37, 16, 94, 29,  0,  0,  0,  0,  0],\n",
       "       [41, 41, 26, 56, 83, 40, 80, 70, 33,  0,  0,  0,  0,  0,  0],\n",
       "       [99, 65,  4, 28,  6, 16, 70, 92,  0,  0,  0,  0,  0,  0,  0],\n",
       "       [88,  2, 77, 73,  7, 63, 67,  0,  0,  0,  0,  0,  0,  0,  0],\n",
       "       [19,  1, 23, 75,  3, 34,  0,  0,  0,  0,  0,  0,  0,  0,  0],\n",
       "       [20,  4, 82, 47, 65,  0,  0,  0,  0,  0,  0,  0,  0,  0,  0],\n",
       "       [18, 35, 87, 10,  0,  0,  0,  0,  0,  0,  0,  0,  0,  0,  0],\n",
       "       [17, 47, 82,  0,  0,  0,  0,  0,  0,  0,  0,  0,  0,  0,  0],\n",
       "       [95, 64,  0,  0,  0,  0,  0,  0,  0,  0,  0,  0,  0,  0,  0],\n",
       "       [75,  0,  0,  0,  0,  0,  0,  0,  0,  0,  0,  0,  0,  0,  0]],\n",
       "      dtype=int32)"
      ]
     },
     "execution_count": 71,
     "metadata": {},
     "output_type": "execute_result"
    }
   ],
   "source": [
    "import numpy as np\n",
    "\n",
    "_size = len(triangle)\n",
    "node_map = np.zeros((_size, _size), dtype=np.int32)\n",
    "\n",
    "for i, row in enumerate(triangle):\n",
    "    node_map[i, : len(row)] = row\n",
    "\n",
    "node_map"
   ]
  },
  {
   "cell_type": "markdown",
   "id": "ace919b4",
   "metadata": {},
   "source": [
    "## Solution with Numpy"
   ]
  },
  {
   "cell_type": "code",
   "execution_count": 72,
   "id": "26697d61",
   "metadata": {},
   "outputs": [],
   "source": [
    "import numpy as np\n",
    "\n",
    "\n",
    "def main(node_map):\n",
    "    node_map = node_map.copy()\n",
    "\n",
    "    i_row = 0\n",
    "    while i_row < len(node_map) - 1:\n",
    "        # initialize values of next row\n",
    "        row = node_map[i_row]\n",
    "        next_row = node_map[i_row + 1]\n",
    "\n",
    "        # find max values that can be used to step into next row\n",
    "        variant_a = row[:-1]\n",
    "        variant_b = row[1:]\n",
    "        max_elements = np.maximum(variant_a, variant_b)\n",
    "\n",
    "        # add max values\n",
    "        next_row[:-1] += max_elements\n",
    "\n",
    "        i_row += 1\n",
    "\n",
    "    return next_row.max()\n"
   ]
  },
  {
   "cell_type": "code",
   "execution_count": 73,
   "id": "cfa8bba1",
   "metadata": {},
   "outputs": [
    {
     "name": "stdout",
     "output_type": "stream",
     "text": [
      "27.7 μs ± 1.1 μs per loop (mean ± std. dev. of 7 runs, 10,000 loops each)\n"
     ]
    }
   ],
   "source": [
    "%%timeit\n",
    "main(node_map)"
   ]
  },
  {
   "cell_type": "code",
   "execution_count": 74,
   "id": "7029d5d2",
   "metadata": {},
   "outputs": [
    {
     "data": {
      "text/plain": [
       "np.int32(1074)"
      ]
     },
     "execution_count": 74,
     "metadata": {},
     "output_type": "execute_result"
    }
   ],
   "source": [
    "main(node_map)"
   ]
  },
  {
   "cell_type": "markdown",
   "id": "551f4604",
   "metadata": {},
   "source": [
    "## Other options/optimizations:\n",
    "- usage of graph algorithm that can compute MAX cost\n",
    "- dynamic programming - walking through all paths, skipping computed ones"
   ]
  },
  {
   "cell_type": "markdown",
   "id": "57101446",
   "metadata": {},
   "source": [
    "## Python solution \n",
    "- for-cycles instead of numpy vectorized operations\n",
    "- speed comparison"
   ]
  },
  {
   "cell_type": "code",
   "execution_count": 75,
   "id": "0e9240cf",
   "metadata": {},
   "outputs": [],
   "source": [
    "from copy import deepcopy\n",
    "\n",
    "\n",
    "def main2(triangle):\n",
    "    triangle = deepcopy(triangle)\n",
    "\n",
    "    i_row = 0\n",
    "    while i_row < len(triangle) - 1:\n",
    "        row = triangle[i_row]\n",
    "        next_row = triangle[i_row + 1]\n",
    "        i_element = 0\n",
    "        while i_element < len(row) - 1:\n",
    "            element_a = row[i_element]\n",
    "            element_b = row[i_element + 1]\n",
    "            if element_a > element_b:\n",
    "                next_row[i_element] += element_a\n",
    "            else:\n",
    "                next_row[i_element] += element_b\n",
    "            i_element += 1\n",
    "        i_row += 1\n",
    "    return max(next_row)"
   ]
  },
  {
   "cell_type": "code",
   "execution_count": null,
   "id": "5722360d",
   "metadata": {},
   "outputs": [],
   "source": [
    "%%timeit\n",
    "main2(node_map)"
   ]
  },
  {
   "cell_type": "code",
   "execution_count": 68,
   "id": "1b98c35e",
   "metadata": {},
   "outputs": [
    {
     "data": {
      "text/plain": [
       "np.int32(1074)"
      ]
     },
     "execution_count": 68,
     "metadata": {},
     "output_type": "execute_result"
    }
   ],
   "source": [
    "main2(node_map)"
   ]
  }
 ],
 "metadata": {
  "kernelspec": {
   "display_name": ".venv",
   "language": "python",
   "name": "python3"
  },
  "language_info": {
   "codemirror_mode": {
    "name": "ipython",
    "version": 3
   },
   "file_extension": ".py",
   "mimetype": "text/x-python",
   "name": "python",
   "nbconvert_exporter": "python",
   "pygments_lexer": "ipython3",
   "version": "3.11.10"
  }
 },
 "nbformat": 4,
 "nbformat_minor": 5
}
