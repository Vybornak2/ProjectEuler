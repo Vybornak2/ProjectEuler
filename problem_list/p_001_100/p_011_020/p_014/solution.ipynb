{
 "cells": [
  {
   "cell_type": "code",
   "execution_count": 1,
   "id": "e38cd89c",
   "metadata": {},
   "outputs": [
    {
     "data": {
      "text/markdown": [
       "# Problem 14\n",
       "\n",
       "[**Longest Collatz Sequence**](https://projecteuler.net/problem=14)\n",
       "\n",
       "## Description:\n",
       "The following iterative sequence is defined for the set of positive integers:\n",
       "\n",
       "- $ n \\mod 2 = 0 \\to n_{i+1} = n_i / 2 $\n",
       "- $ n \\mod 2 \\neq 0 \\to n_{i+1} = 3 \\cdot n_i $\n",
       "\n",
       "Using the rule above and starting with 13, we generate the following sequence:\n",
       "$$ 13 \\to 40 \\to 20 \\to 10 \\to 5 \\to 16 \\to 8 \\to 4 \\to 2 \\to 1 $$\n",
       "\n",
       "It can be seen that this sequence (starting at 13 and finishing at 1) contains 10 terms. Although it has not been proved yet (Collatz Problem), it is thought that all starting numbers finish at 1.\n",
       "\n",
       "\n",
       "## Task:\n",
       "Which starting number, under one million, produces the longest chain?\n",
       "\n",
       "NOTE: Once the chain starts the terms are allowed to go above one million.\n"
      ],
      "text/plain": [
       "<IPython.core.display.Markdown object>"
      ]
     },
     "metadata": {},
     "output_type": "display_data"
    }
   ],
   "source": [
    "from IPython.display import Markdown, display\n",
    "\n",
    "with open(\"description.md\", \"r\") as file:\n",
    "    md_content = file.read()\n",
    "display(Markdown(md_content))"
   ]
  },
  {
   "cell_type": "markdown",
   "id": "551f4604",
   "metadata": {},
   "source": [
    "## Dynamic programming example \n",
    "\n",
    "- last recently used cache used to store chains in memory"
   ]
  },
  {
   "cell_type": "code",
   "execution_count": 4,
   "id": "eacd0e5b",
   "metadata": {},
   "outputs": [],
   "source": [
    "import numpy as np\n",
    "from functools import lru_cache\n",
    "\n",
    "\n",
    "@lru_cache(maxsize=None)\n",
    "def get_collatz_sequence(n):\n",
    "    if n == 1:\n",
    "        return [1]\n",
    "    elif n % 2 == 0:\n",
    "        return [n] + get_collatz_sequence(n // 2)\n",
    "    else:\n",
    "        return [n] + get_collatz_sequence(3 * n + 1)\n",
    "\n",
    "\n",
    "def main(limit: int = 1_000_000):\n",
    "    max_number = number = 1\n",
    "    max_chain_length = 0\n",
    "    while True:\n",
    "        chain_length = len(get_collatz_sequence(number))\n",
    "        if chain_length > max_chain_length:\n",
    "            max_chain_length = chain_length\n",
    "            max_number = number\n",
    "\n",
    "        if number == limit:\n",
    "            break\n",
    "\n",
    "        number += 1\n",
    "\n",
    "    return max_number, max_chain_length"
   ]
  },
  {
   "cell_type": "code",
   "execution_count": 6,
   "id": "0205301d",
   "metadata": {},
   "outputs": [
    {
     "name": "stdout",
     "output_type": "stream",
     "text": [
      "233 ms ± 4.84 ms per loop (mean ± std. dev. of 7 runs, 1 loop each)\n"
     ]
    }
   ],
   "source": [
    "%%timeit\n",
    "main()"
   ]
  },
  {
   "cell_type": "code",
   "execution_count": 5,
   "id": "86e242c1",
   "metadata": {},
   "outputs": [
    {
     "data": {
      "text/plain": [
       "(837799, 525)"
      ]
     },
     "execution_count": 5,
     "metadata": {},
     "output_type": "execute_result"
    }
   ],
   "source": [
    "main()"
   ]
  },
  {
   "cell_type": "markdown",
   "id": "0c86452d",
   "metadata": {},
   "source": [
    "## Possible optimizations\n",
    "\n",
    "- memory optimizations could be done to release some memory - shorter chains might not be needed\n",
    "- cytonize / ctypes / numba_jit"
   ]
  }
 ],
 "metadata": {
  "kernelspec": {
   "display_name": ".venv",
   "language": "python",
   "name": "python3"
  },
  "language_info": {
   "codemirror_mode": {
    "name": "ipython",
    "version": 3
   },
   "file_extension": ".py",
   "mimetype": "text/x-python",
   "name": "python",
   "nbconvert_exporter": "python",
   "pygments_lexer": "ipython3",
   "version": "3.11.10"
  }
 },
 "nbformat": 4,
 "nbformat_minor": 5
}
