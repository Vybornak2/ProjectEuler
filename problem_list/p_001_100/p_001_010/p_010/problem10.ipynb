{
 "cells": [
  {
   "cell_type": "code",
   "execution_count": 35,
   "id": "105b31b4-9be1-49e3-86bf-4ed7c9a2ed67",
   "metadata": {},
   "outputs": [
    {
     "data": {
      "text/plain": [
       "'\\nThe sum of the primes below 10 is 2 + 3 + 5 + 7 = 17.\\n\\nFind the sum of all the primes below two million.\\n'"
      ]
     },
     "execution_count": 35,
     "metadata": {},
     "output_type": "execute_result"
    }
   ],
   "source": [
    "\"\"\"\n",
    "The sum_prime of the primes below 10 is 2 + 3 + 5 + 7 = 17.\n",
    "\n",
    "Find the sum_prime of all the primes below two million.\n",
    "\"\"\"\n"
   ]
  },
  {
   "cell_type": "code",
   "execution_count": null,
   "id": "27b91081-aeae-4496-80bd-b85ef9d9dcef",
   "metadata": {},
   "outputs": [],
   "source": [
    "\"\"\"\n",
    "eliminating non primes is much faster !!!!!\n",
    "\n",
    "\"\"\""
   ]
  },
  {
   "cell_type": "code",
   "execution_count": 1,
   "id": "b098e2b5-3494-4893-917d-a0d30cf3850b",
   "metadata": {},
   "outputs": [
    {
     "name": "stdout",
     "output_type": "stream",
     "text": [
      "1.0\n",
      "2.0\n",
      "3.0\n",
      "4.0\n",
      "5.0\n",
      "6.0\n",
      "7.000000000000001\n",
      "8.0\n",
      "9.0\n",
      "10.0\n",
      "11.0\n",
      "12.0\n",
      "13.0\n",
      "14.000000000000002\n",
      "15.0\n",
      "16.0\n",
      "17.0\n",
      "18.0\n",
      "19.0\n",
      "20.0\n",
      "21.0\n",
      "22.0\n",
      "23.0\n",
      "24.0\n",
      "25.0\n",
      "26.0\n",
      "27.0\n",
      "28.000000000000004\n",
      "28.999999999999996\n",
      "30.0\n",
      "31.0\n",
      "32.0\n",
      "33.0\n",
      "34.0\n",
      "35.0\n",
      "36.0\n",
      "37.0\n",
      "38.0\n",
      "39.0\n",
      "40.0\n",
      "41.0\n",
      "42.0\n",
      "43.0\n",
      "44.0\n",
      "45.0\n",
      "46.0\n",
      "47.0\n",
      "48.0\n",
      "49.0\n",
      "50.0\n",
      "51.0\n",
      "52.0\n",
      "53.0\n",
      "54.0\n",
      "55.00000000000001\n",
      "56.00000000000001\n",
      "56.99999999999999\n",
      "57.99999999999999\n",
      "59.0\n",
      "60.0\n",
      "61.0\n",
      "62.0\n",
      "63.0\n",
      "64.0\n",
      "65.0\n",
      "66.0\n",
      "67.0\n",
      "68.0\n",
      "69.0\n",
      "70.0\n",
      "71.0\n",
      "72.0\n",
      "73.0\n",
      "74.0\n",
      "75.0\n",
      "76.0\n",
      "77.0\n",
      "78.0\n",
      "79.0\n",
      "80.0\n",
      "81.0\n",
      "82.0\n",
      "83.0\n",
      "84.0\n",
      "85.0\n",
      "86.0\n",
      "87.0\n",
      "88.0\n",
      "89.0\n",
      "90.0\n",
      "91.0\n",
      "92.0\n",
      "93.0\n",
      "94.0\n",
      "95.0\n",
      "96.0\n",
      "97.0\n",
      "98.0\n",
      "99.0\n",
      "100.0\n",
      "142913828922\n"
     ]
    }
   ],
   "source": [
    "import numpy as np\n",
    "\n",
    "\n",
    "max_prime = 2 * 10 **6\n",
    "\n",
    "no_prime = np.zeros(max_prime)\n",
    "i = 2\n",
    "sum_prime = 0\n",
    "\n",
    "while i < max_prime:\n",
    "    if no_prime[i] == 0:\n",
    "        sum_prime = sum_prime + i\n",
    "        for k in range(2*i, max_prime, i):\n",
    "            no_prime[k] = 1\n",
    "       \n",
    "    i += 1\n",
    "    if i % 20000 == 0:\n",
    "        print(i/2000000*100)\n",
    "    \n",
    "print(sum_prime)\n"
   ]
  },
  {
   "cell_type": "code",
   "execution_count": 33,
   "id": "65074395-fe7d-49f8-b4b2-3b6489d3c3ba",
   "metadata": {},
   "outputs": [
    {
     "name": "stdout",
     "output_type": "stream",
     "text": [
      "{(0, 1, 2): [0, 0, 0]}\n"
     ]
    }
   ],
   "source": [
    "print(no_prime)"
   ]
  }
 ],
 "metadata": {
  "kernelspec": {
   "display_name": "Python 3 (ipykernel)",
   "language": "python",
   "name": "python3"
  },
  "language_info": {
   "codemirror_mode": {
    "name": "ipython",
    "version": 3
   },
   "file_extension": ".py",
   "mimetype": "text/x-python",
   "name": "python",
   "nbconvert_exporter": "python",
   "pygments_lexer": "ipython3",
   "version": "3.9.6"
  }
 },
 "nbformat": 4,
 "nbformat_minor": 5
}
