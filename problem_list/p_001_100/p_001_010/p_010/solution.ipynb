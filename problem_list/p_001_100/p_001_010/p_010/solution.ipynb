{
 "cells": [
  {
   "cell_type": "code",
   "execution_count": 7,
   "id": "e38cd89c",
   "metadata": {},
   "outputs": [
    {
     "data": {
      "text/markdown": [
       "# Problem 10\n",
       "\n",
       "[**Summation of primes**](https://projecteuler.net/problem=10)\n",
       "\n",
       "## Description:\n",
       "The sum of the primes below $10$ is $ 2 + 3 + 5 + 7 = 17 $\n",
       "\n",
       "## Task:\n",
       "Find the sum of all the primes below two million.\n"
      ],
      "text/plain": [
       "<IPython.core.display.Markdown object>"
      ]
     },
     "metadata": {},
     "output_type": "display_data"
    }
   ],
   "source": [
    "from IPython.display import Markdown, display\n",
    "\n",
    "with open(\"description.md\", \"r\") as file:\n",
    "    md_content = file.read()\n",
    "display(Markdown(md_content))"
   ]
  },
  {
   "cell_type": "code",
   "execution_count": 3,
   "id": "a108200d",
   "metadata": {},
   "outputs": [],
   "source": [
    "import numpy as np\n",
    "\n",
    "MAX_PRIME_LIMIT = 2 * 10**6\n",
    "\n",
    "\n",
    "def get_primes_up_to_number(max_prime):\n",
    "    if max_prime < 2:\n",
    "        return []\n",
    "\n",
    "    not_a_prime = np.zeros(max_prime, dtype=bool)\n",
    "    not_a_prime[:2] = True  # 0 and 1 are not primes\n",
    "    primes = []\n",
    "\n",
    "    for number in range(2, int(np.sqrt(max_prime)) + 1):\n",
    "        if not not_a_prime[number]:\n",
    "            not_a_prime[number * number : max_prime : number] = True\n",
    "\n",
    "    primes = np.nonzero(~not_a_prime)[0]\n",
    "    return primes\n",
    "\n",
    "\n",
    "def main():\n",
    "    primes = get_primes_up_to_number(MAX_PRIME_LIMIT)\n",
    "    return int(primes.sum())"
   ]
  },
  {
   "cell_type": "code",
   "execution_count": 2,
   "id": "2c42bb12",
   "metadata": {},
   "outputs": [
    {
     "name": "stdout",
     "output_type": "stream",
     "text": [
      "6.83 ms ± 201 μs per loop (mean ± std. dev. of 7 runs, 100 loops each)\n"
     ]
    }
   ],
   "source": [
    "%%timeit\n",
    "main()"
   ]
  },
  {
   "cell_type": "code",
   "execution_count": 4,
   "id": "ba5c2468",
   "metadata": {},
   "outputs": [
    {
     "data": {
      "text/plain": [
       "142913828922"
      ]
     },
     "execution_count": 4,
     "metadata": {},
     "output_type": "execute_result"
    }
   ],
   "source": [
    "main()"
   ]
  },
  {
   "cell_type": "markdown",
   "id": "614f9c5f",
   "metadata": {},
   "source": [
    "### Sieve of Eratosthenes algorithm\n",
    "\n",
    "this implementation is slower because numpy is not being used"
   ]
  },
  {
   "cell_type": "code",
   "execution_count": 5,
   "id": "1cde1fb7",
   "metadata": {},
   "outputs": [],
   "source": [
    "def sieve_of_eratosthenes(max_prime):\n",
    "    not_a_prime = [False] * (max_prime + 1)\n",
    "    p = 2\n",
    "    while p * p <= max_prime:\n",
    "        if not not_a_prime[p]:\n",
    "            for i in range(p * p, max_prime + 1, p):\n",
    "                not_a_prime[i] = True\n",
    "        p += 1\n",
    "    primes = [p for p in range(2, max_prime + 1) if not not_a_prime[p]]\n",
    "    return primes"
   ]
  },
  {
   "cell_type": "code",
   "execution_count": 6,
   "id": "47668e03",
   "metadata": {},
   "outputs": [
    {
     "name": "stdout",
     "output_type": "stream",
     "text": [
      "208 ms ± 7.07 ms per loop (mean ± std. dev. of 7 runs, 1 loop each)\n"
     ]
    }
   ],
   "source": [
    "%%timeit\n",
    "sum(sieve_of_eratosthenes(MAX_PRIME_LIMIT))"
   ]
  }
 ],
 "metadata": {
  "kernelspec": {
   "display_name": ".venv",
   "language": "python",
   "name": "python3"
  },
  "language_info": {
   "codemirror_mode": {
    "name": "ipython",
    "version": 3
   },
   "file_extension": ".py",
   "mimetype": "text/x-python",
   "name": "python",
   "nbconvert_exporter": "python",
   "pygments_lexer": "ipython3",
   "version": "3.11.10"
  }
 },
 "nbformat": 4,
 "nbformat_minor": 5
}
