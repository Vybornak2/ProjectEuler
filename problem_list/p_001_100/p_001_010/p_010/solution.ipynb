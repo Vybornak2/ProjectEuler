{
 "cells": [
  {
   "cell_type": "code",
   "execution_count": 7,
   "id": "e38cd89c",
   "metadata": {},
   "outputs": [
    {
     "data": {
      "text/markdown": [
       "# Problem 10\n",
       "\n",
       "[**Summation of primes**](https://projecteuler.net/problem=10)\n",
       "\n",
       "## Description:\n",
       "The sum of the primes below $10$ is $ 2 + 3 + 5 + 7 = 17 $\n",
       "\n",
       "## Task:\n",
       "Find the sum of all the primes below two million.\n"
      ],
      "text/plain": [
       "<IPython.core.display.Markdown object>"
      ]
     },
     "metadata": {},
     "output_type": "display_data"
    }
   ],
   "source": [
    "from IPython.display import Markdown, display\n",
    "\n",
    "with open(\"describtion.md\", \"r\") as file:\n",
    "    md_content = file.read()\n",
    "display(Markdown(md_content))"
   ]
  },
  {
   "cell_type": "code",
   "execution_count": 11,
   "id": "a108200d",
   "metadata": {},
   "outputs": [],
   "source": [
    "import numpy as np\n",
    "\n",
    "max_prime = 2 * 10**6\n",
    "\n",
    "\n",
    "def get_primes_up_to_number(max_prime):\n",
    "    if max_prime < 2:\n",
    "        return []\n",
    "\n",
    "    not_a_prime = np.zeros(max_prime, dtype=bool)\n",
    "    not_a_prime[:2] = True  # 0 and 1 are not primes\n",
    "    primes = []\n",
    "\n",
    "    for number in range(2, int(np.sqrt(max_prime)) + 1):\n",
    "        if not not_a_prime[number]:\n",
    "            not_a_prime[number * number : max_prime : number] = True\n",
    "\n",
    "    primes = np.nonzero(~not_a_prime)[0].tolist()\n",
    "    return primes\n",
    "\n",
    "\n",
    "def get_primes_sum_up_to_number(max_prime):\n",
    "    primes = get_primes_up_to_number(max_prime)\n",
    "    return sum(primes)"
   ]
  },
  {
   "cell_type": "code",
   "execution_count": 12,
   "id": "2c42bb12",
   "metadata": {},
   "outputs": [
    {
     "name": "stdout",
     "output_type": "stream",
     "text": [
      "13.3 ms ± 164 μs per loop (mean ± std. dev. of 7 runs, 100 loops each)\n"
     ]
    }
   ],
   "source": [
    "%%timeit\n",
    "get_primes_sum_up_to_number(max_prime)"
   ]
  },
  {
   "cell_type": "code",
   "execution_count": 13,
   "id": "ba5c2468",
   "metadata": {},
   "outputs": [
    {
     "data": {
      "text/plain": [
       "142913828922"
      ]
     },
     "execution_count": 13,
     "metadata": {},
     "output_type": "execute_result"
    }
   ],
   "source": [
    "get_primes_sum_up_to_number(max_prime)"
   ]
  }
 ],
 "metadata": {
  "kernelspec": {
   "display_name": ".venv",
   "language": "python",
   "name": "python3"
  },
  "language_info": {
   "codemirror_mode": {
    "name": "ipython",
    "version": 3
   },
   "file_extension": ".py",
   "mimetype": "text/x-python",
   "name": "python",
   "nbconvert_exporter": "python",
   "pygments_lexer": "ipython3",
   "version": "3.11.10"
  }
 },
 "nbformat": 4,
 "nbformat_minor": 5
}
