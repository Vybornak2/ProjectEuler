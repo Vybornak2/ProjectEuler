{
 "cells": [
  {
   "cell_type": "code",
   "execution_count": 1,
   "id": "e38cd89c",
   "metadata": {},
   "outputs": [
    {
     "data": {
      "text/markdown": [
       "# Problem 3\n",
       "\n",
       "[**Largest prime factor**](https://projecteuler.net/problem=3)\n",
       "\n",
       "## Description:\n",
       "The prime factors of 13195 are 5, 7, 13 and 29.\n",
       "\n",
       "## Task:\n",
       "What is the largest prime factor of the number 600851475143 ?\n",
       "\n"
      ],
      "text/plain": [
       "<IPython.core.display.Markdown object>"
      ]
     },
     "metadata": {},
     "output_type": "display_data"
    }
   ],
   "source": [
    "from IPython.display import Markdown, display\n",
    "\n",
    "with open(\"description.md\", \"r\") as file:\n",
    "    md_content = file.read()\n",
    "display(Markdown(md_content))"
   ]
  },
  {
   "cell_type": "code",
   "execution_count": 2,
   "id": "1ed1747c",
   "metadata": {},
   "outputs": [],
   "source": [
    "def get_all_factors(number):\n",
    "    factors = []\n",
    "    factor = 2\n",
    "    while number != 1:\n",
    "        if number % factor == 0:\n",
    "            factors.append(factor)\n",
    "            while number % factor == 0:\n",
    "                number = number // factor\n",
    "        else:\n",
    "            factor += 1\n",
    "    return factors\n",
    "\n",
    "\n",
    "def main():\n",
    "    factors = get_all_factors(600851475143)\n",
    "    # return max(factors)\n",
    "    return factors[-1]"
   ]
  },
  {
   "cell_type": "code",
   "execution_count": 4,
   "id": "a2ff42fe",
   "metadata": {},
   "outputs": [
    {
     "name": "stdout",
     "output_type": "stream",
     "text": [
      "433 μs ± 5.23 μs per loop (mean ± std. dev. of 7 runs, 1,000 loops each)\n"
     ]
    }
   ],
   "source": [
    "%%timeit\n",
    "main()"
   ]
  },
  {
   "cell_type": "code",
   "execution_count": 5,
   "id": "f2282ead",
   "metadata": {},
   "outputs": [
    {
     "data": {
      "text/plain": [
       "6857"
      ]
     },
     "execution_count": 5,
     "metadata": {},
     "output_type": "execute_result"
    }
   ],
   "source": [
    "main()"
   ]
  }
 ],
 "metadata": {
  "kernelspec": {
   "display_name": ".venv",
   "language": "python",
   "name": "python3"
  },
  "language_info": {
   "codemirror_mode": {
    "name": "ipython",
    "version": 3
   },
   "file_extension": ".py",
   "mimetype": "text/x-python",
   "name": "python",
   "nbconvert_exporter": "python",
   "pygments_lexer": "ipython3",
   "version": "3.11.10"
  }
 },
 "nbformat": 4,
 "nbformat_minor": 5
}
