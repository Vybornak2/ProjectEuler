{
 "cells": [
  {
   "cell_type": "code",
   "execution_count": 19,
   "id": "142f6ad8-4bb5-47bb-aaa0-dbb2a77c4759",
   "metadata": {},
   "outputs": [
    {
     "name": "stdout",
     "output_type": "stream",
     "text": [
      "Highest prime is:  6857\n"
     ]
    }
   ],
   "source": [
    "\"\"\"\n",
    "The prime factors of 13195 are 5, 7, 13 and 29.\n",
    "\n",
    "What is the largest prime factor of the number 600851475143 ?\n",
    "\"\"\"\n",
    "i=2\n",
    "ik=0\n",
    "prime={}\n",
    "num = 600851475143\n",
    "is_prime = True\n",
    "\n",
    "while i <= num ** 0.5:\n",
    "    if num % i == 0:\n",
    "        for k in range(2,i-1):\n",
    "            if i % k ==0:\n",
    "                is_prime = False\n",
    "        if is_prime:\n",
    "            highest_prime = i\n",
    "            prime[ik] = i\n",
    "            ik += 1\n",
    "        else:\n",
    "            is_prime = True\n",
    "    i += 1\n",
    "print('Highest prime is: ',highest_prime)\n"
   ]
  },
  {
   "cell_type": "code",
   "execution_count": 17,
   "id": "fd61d1b6-02bb-4d47-9e8a-c92e083dfa1e",
   "metadata": {},
   "outputs": [
    {
     "name": "stdout",
     "output_type": "stream",
     "text": [
      "{0: 5, 1: 7, 2: 13, 3: 29}\n",
      "29\n"
     ]
    }
   ],
   "source": [
    "\n",
    "print(prime)\n",
    "print(highest_prime)"
   ]
  },
  {
   "cell_type": "code",
   "execution_count": null,
   "id": "88e3f8fa-55c3-4128-a19e-14eab8642a86",
   "metadata": {},
   "outputs": [],
   "source": []
  }
 ],
 "metadata": {
  "kernelspec": {
   "display_name": "Python 3 (ipykernel)",
   "language": "python",
   "name": "python3"
  },
  "language_info": {
   "codemirror_mode": {
    "name": "ipython",
    "version": 3
   },
   "file_extension": ".py",
   "mimetype": "text/x-python",
   "name": "python",
   "nbconvert_exporter": "python",
   "pygments_lexer": "ipython3",
   "version": "3.9.6"
  }
 },
 "nbformat": 4,
 "nbformat_minor": 5
}
