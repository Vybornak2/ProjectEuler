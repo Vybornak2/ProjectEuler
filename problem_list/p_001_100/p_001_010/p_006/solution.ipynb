{
 "cells": [
  {
   "cell_type": "code",
   "execution_count": 1,
   "id": "e38cd89c",
   "metadata": {},
   "outputs": [
    {
     "data": {
      "text/markdown": [
       "# Problem 6\n",
       "\n",
       "[**Sum square difference**](https://projecteuler.net/problem=6)\n",
       "\n",
       "## Description:\n",
       "The sum of the squares of the first ten natural numbers is,\n",
       "\n",
       "$$ 1^2 + 2^2 + ... + 10^2 = 385 $$\n",
       "\n",
       "The square of the sum of the first ten natural numbers is,\n",
       "\n",
       "$$ (1 + 2 + ... + 10)^2 = 55^2 = 3025. $$\n",
       "\n",
       "Hence the difference between the sum of the squares of the first ten natural numbers and the square of the sum is $ 3025 - 385 = 2640 $.\n",
       "\n",
       "## Task:\n",
       "Find the difference between the sum of the squares of the first one hundred natural numbers and the square of the sum.\n",
       "\n"
      ],
      "text/plain": [
       "<IPython.core.display.Markdown object>"
      ]
     },
     "metadata": {},
     "output_type": "display_data"
    }
   ],
   "source": [
    "from IPython.display import Markdown, display\n",
    "\n",
    "with open(\"description.md\", \"r\") as file:\n",
    "    md_content = file.read()\n",
    "display(Markdown(md_content))"
   ]
  },
  {
   "cell_type": "markdown",
   "id": "111c6a40",
   "metadata": {},
   "source": [
    "### Brute-force solution"
   ]
  },
  {
   "cell_type": "code",
   "execution_count": 8,
   "id": "116c76e9",
   "metadata": {},
   "outputs": [],
   "source": [
    "def sum_diff(n):\n",
    "    sum_sq = 0\n",
    "    sum_i = 0\n",
    "    for i in range(1, n + 1):\n",
    "        sum_sq += i**2\n",
    "        sum_i += i\n",
    "    sum_i = sum_i**2\n",
    "    diff = sum_i - sum_sq\n",
    "    return diff"
   ]
  },
  {
   "cell_type": "code",
   "execution_count": 9,
   "id": "f79862f0",
   "metadata": {},
   "outputs": [
    {
     "name": "stdout",
     "output_type": "stream",
     "text": [
      "7.14 μs ± 91.5 ns per loop (mean ± std. dev. of 7 runs, 100,000 loops each)\n"
     ]
    }
   ],
   "source": [
    "%%timeit\n",
    "sum_diff(100)"
   ]
  },
  {
   "cell_type": "code",
   "execution_count": 10,
   "id": "5ea3ca63",
   "metadata": {},
   "outputs": [
    {
     "data": {
      "text/plain": [
       "25164150"
      ]
     },
     "execution_count": 10,
     "metadata": {},
     "output_type": "execute_result"
    }
   ],
   "source": [
    "sum_diff(100)"
   ]
  },
  {
   "cell_type": "markdown",
   "id": "c8dc5650",
   "metadata": {
    "vscode": {
     "languageId": "sql"
    }
   },
   "source": [
    "### Optimized approach"
   ]
  },
  {
   "cell_type": "code",
   "execution_count": 15,
   "id": "654cc39e",
   "metadata": {},
   "outputs": [],
   "source": [
    "def sum_diff2(n):\n",
    "    sum_i = n * (n + 1) / 2\n",
    "    sum_sq = n * (n + 1) * (2 * n + 1) / 6\n",
    "    diff = sum_i**2 - sum_sq\n",
    "    return diff"
   ]
  },
  {
   "cell_type": "code",
   "execution_count": 16,
   "id": "839d7f8f",
   "metadata": {},
   "outputs": [
    {
     "name": "stdout",
     "output_type": "stream",
     "text": [
      "338 ns ± 2.6 ns per loop (mean ± std. dev. of 7 runs, 1,000,000 loops each)\n"
     ]
    }
   ],
   "source": [
    "%%timeit\n",
    "sum_diff2(100)"
   ]
  },
  {
   "cell_type": "code",
   "execution_count": 17,
   "id": "010fff2e",
   "metadata": {},
   "outputs": [
    {
     "data": {
      "text/plain": [
       "25164150.0"
      ]
     },
     "execution_count": 17,
     "metadata": {},
     "output_type": "execute_result"
    }
   ],
   "source": [
    "sum_diff2(100)"
   ]
  }
 ],
 "metadata": {
  "kernelspec": {
   "display_name": ".venv",
   "language": "python",
   "name": "python3"
  },
  "language_info": {
   "codemirror_mode": {
    "name": "ipython",
    "version": 3
   },
   "file_extension": ".py",
   "mimetype": "text/x-python",
   "name": "python",
   "nbconvert_exporter": "python",
   "pygments_lexer": "ipython3",
   "version": "3.11.10"
  }
 },
 "nbformat": 4,
 "nbformat_minor": 5
}
