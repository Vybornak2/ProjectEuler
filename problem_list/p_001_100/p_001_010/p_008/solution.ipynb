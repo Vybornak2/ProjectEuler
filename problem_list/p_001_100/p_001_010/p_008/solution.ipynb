{
 "cells": [
  {
   "cell_type": "code",
   "execution_count": 3,
   "id": "e38cd89c",
   "metadata": {},
   "outputs": [
    {
     "data": {
      "text/markdown": [
       "# Problem 8\n",
       "\n",
       "[**Largest product in series**](https://projecteuler.net/problem=8)\n",
       "\n",
       "## Description:\n",
       "The four adjacent digits in the 1000-digit number that have the greatest product are $ 9 \\cdot 9 \\cdot 8 \\cdot 9 = 5832 $\n",
       "\n",
       "73167176531330624919225119674426574742355349194934 \\\n",
       "96983520312774506326239578318016984801869478851843 \\\n",
       "85861560789112949495459501737958331952853208805511 \\\n",
       "12540698747158523863050715693290963295227443043557 \\\n",
       "66896648950445244523161731856403098711121722383113 \\\n",
       "62229893423380308135336276614282806444486645238749 \\\n",
       "30358907296290491560440772390713810515859307960866 \\\n",
       "70172427121883998797908792274921901699720888093776 \\\n",
       "65727333001053367881220235421809751254540594752243 \\\n",
       "52584907711670556013604839586446706324415722155397 \\\n",
       "53697817977846174064955149290862569321978468622482 \\\n",
       "83972241375657056057490261407972968652414535100474 \\\n",
       "82166370484403199890008895243450658541227588666881 \\\n",
       "16427171479924442928230863465674813919123162824586 \\\n",
       "17866458359124566529476545682848912883142607690042 \\\n",
       "24219022671055626321111109370544217506941658960408 \\\n",
       "07198403850962455444362981230987879927244284909188 \\\n",
       "84580156166097919133875499200524063689912560717606 \\\n",
       "05886116467109405077541002256983155200055935729725 \\\n",
       "71636269561882670428252483600823257530420752963450 \n",
       "\n",
       "\n",
       "## Task:\n",
       "Find the thirteen adjacent digits in the 1000-digit number that have the greatest product. What is the value of this product?\n",
       "\n"
      ],
      "text/plain": [
       "<IPython.core.display.Markdown object>"
      ]
     },
     "metadata": {},
     "output_type": "display_data"
    }
   ],
   "source": [
    "from IPython.display import Markdown, display\n",
    "\n",
    "with open(\"describtion.md\", \"r\") as file:\n",
    "    md_content = file.read()\n",
    "display(Markdown(md_content))"
   ]
  },
  {
   "cell_type": "code",
   "execution_count": 33,
   "id": "97fd2e39",
   "metadata": {},
   "outputs": [],
   "source": [
    "number_str = \"\"\"\n",
    "73167176531330624919225119674426574742355349194934\n",
    "96983520312774506326239578318016984801869478851843\n",
    "85861560789112949495459501737958331952853208805511\n",
    "12540698747158523863050715693290963295227443043557\n",
    "66896648950445244523161731856403098711121722383113\n",
    "62229893423380308135336276614282806444486645238749\n",
    "30358907296290491560440772390713810515859307960866\n",
    "70172427121883998797908792274921901699720888093776\n",
    "65727333001053367881220235421809751254540594752243\n",
    "52584907711670556013604839586446706324415722155397\n",
    "53697817977846174064955149290862569321978468622482\n",
    "83972241375657056057490261407972968652414535100474\n",
    "82166370484403199890008895243450658541227588666881\n",
    "16427171479924442928230863465674813919123162824586\n",
    "17866458359124566529476545682848912883142607690042\n",
    "24219022671055626321111109370544217506941658960408\n",
    "07198403850962455444362981230987879927244284909188\n",
    "84580156166097919133875499200524063689912560717606\n",
    "05886116467109405077541002256983155200055935729725\n",
    "71636269561882670428252483600823257530420752963450\n",
    "\"\"\".replace(\"\\n\", \"\")\n",
    "number = int(number_str)\n",
    "\n",
    "digits_count = 13"
   ]
  },
  {
   "cell_type": "markdown",
   "id": "63b7dcc7",
   "metadata": {},
   "source": [
    "### Without optimized libraries\n",
    "\n",
    "optionally sequences containing 0 could be removed"
   ]
  },
  {
   "cell_type": "code",
   "execution_count": 41,
   "id": "90221dd4",
   "metadata": {},
   "outputs": [],
   "source": [
    "from math import prod\n",
    "from collections import deque\n",
    "\n",
    "\n",
    "def get_max_product1(number_str, digits_count):\n",
    "    max_product = 0\n",
    "    digits = deque([int(d) for d in number_str[:digits_count]])\n",
    "\n",
    "    for i in range(len(number_str) - digits_count):\n",
    "        digits.popleft()\n",
    "        digits.append(int(number_str[i + digits_count]))\n",
    "\n",
    "        product = prod(digits)\n",
    "        if product > max_product:\n",
    "            max_product = product\n",
    "\n",
    "    return max_product\n"
   ]
  },
  {
   "cell_type": "code",
   "execution_count": 42,
   "id": "1a2aed0c",
   "metadata": {},
   "outputs": [
    {
     "name": "stdout",
     "output_type": "stream",
     "text": [
      "379 μs ± 13 μs per loop (mean ± std. dev. of 7 runs, 1,000 loops each)\n"
     ]
    }
   ],
   "source": [
    "%%timeit\n",
    "get_max_product1(number_str, digits_count)"
   ]
  },
  {
   "cell_type": "code",
   "execution_count": 43,
   "id": "11cb46e1",
   "metadata": {},
   "outputs": [
    {
     "data": {
      "text/plain": [
       "23514624000"
      ]
     },
     "execution_count": 43,
     "metadata": {},
     "output_type": "execute_result"
    }
   ],
   "source": [
    "get_max_product1(number_str, digits_count)"
   ]
  },
  {
   "cell_type": "markdown",
   "id": "111c6a40",
   "metadata": {},
   "source": [
    "### Using optimized libraries"
   ]
  },
  {
   "cell_type": "code",
   "execution_count": 44,
   "id": "53575dfb",
   "metadata": {},
   "outputs": [],
   "source": [
    "import pandas as pd\n",
    "\n",
    "\n",
    "def get_max_product2(number_str, digits_count):\n",
    "    number_df = pd.Series([int(d) for d in number_str])\n",
    "    number_df_rolling = number_df.rolling(window=digits_count).apply(\n",
    "        lambda x: x.prod(), raw=True\n",
    "    )\n",
    "    return int(number_df_rolling.max())"
   ]
  },
  {
   "cell_type": "code",
   "execution_count": 45,
   "id": "9cd24a64",
   "metadata": {},
   "outputs": [
    {
     "name": "stdout",
     "output_type": "stream",
     "text": [
      "1.97 ms ± 13.2 μs per loop (mean ± std. dev. of 7 runs, 1,000 loops each)\n"
     ]
    }
   ],
   "source": [
    "%%timeit\n",
    "get_max_product2(number_str, digits_count)"
   ]
  },
  {
   "cell_type": "code",
   "execution_count": 46,
   "id": "ab2efa34",
   "metadata": {},
   "outputs": [
    {
     "data": {
      "text/plain": [
       "23514624000"
      ]
     },
     "execution_count": 46,
     "metadata": {},
     "output_type": "execute_result"
    }
   ],
   "source": [
    "get_max_product2(number_str, digits_count)"
   ]
  }
 ],
 "metadata": {
  "kernelspec": {
   "display_name": ".venv",
   "language": "python",
   "name": "python3"
  },
  "language_info": {
   "codemirror_mode": {
    "name": "ipython",
    "version": 3
   },
   "file_extension": ".py",
   "mimetype": "text/x-python",
   "name": "python",
   "nbconvert_exporter": "python",
   "pygments_lexer": "ipython3",
   "version": "3.11.10"
  }
 },
 "nbformat": 4,
 "nbformat_minor": 5
}
