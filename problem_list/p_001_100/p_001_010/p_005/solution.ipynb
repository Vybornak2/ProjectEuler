{
 "cells": [
  {
   "cell_type": "code",
   "execution_count": 4,
   "id": "e38cd89c",
   "metadata": {},
   "outputs": [
    {
     "data": {
      "text/markdown": [
       "# Problem 5\n",
       "\n",
       "[**Smallest multiple**](https://projecteuler.net/problem=5)\n",
       "\n",
       "## Description:\n",
       "2520 is the smallest number that can be divided by each of the numbers from 1 to 10 without any remainder.\n",
       "\n",
       "## Task:\n",
       "What is the smallest positive number that is evenly divisible by all of the numbers from 1 to 20?\n"
      ],
      "text/plain": [
       "<IPython.core.display.Markdown object>"
      ]
     },
     "metadata": {},
     "output_type": "display_data"
    }
   ],
   "source": [
    "from IPython.display import Markdown, display\n",
    "\n",
    "with open(\"description.md\", \"r\") as file:\n",
    "    md_content = file.read()\n",
    "display(Markdown(md_content))"
   ]
  },
  {
   "cell_type": "markdown",
   "id": "111c6a40",
   "metadata": {},
   "source": [
    "### Without optimized libraries"
   ]
  },
  {
   "cell_type": "code",
   "execution_count": 5,
   "id": "116c76e9",
   "metadata": {},
   "outputs": [],
   "source": [
    "from collections import defaultdict\n",
    "\n",
    "\n",
    "def get_prime_factors1(number):\n",
    "    factors = defaultdict(int)\n",
    "\n",
    "    factor = 2\n",
    "    while number != 1:\n",
    "        if number % factor == 0:\n",
    "            while number % factor == 0:\n",
    "                factors[factor] += 1\n",
    "                number = number // factor\n",
    "        else:\n",
    "            factor += 1\n",
    "    return factors"
   ]
  },
  {
   "cell_type": "code",
   "execution_count": 6,
   "id": "f9cade77",
   "metadata": {},
   "outputs": [],
   "source": [
    "def union_of_prime_factors(prime_factors_counts):\n",
    "    prime_powers = defaultdict(int)\n",
    "    for factor_counts in prime_factors_counts:\n",
    "        for factor, count in factor_counts.items():\n",
    "            prime_powers[factor] = max(prime_powers[factor], count)\n",
    "\n",
    "    return prime_powers"
   ]
  },
  {
   "cell_type": "code",
   "execution_count": 7,
   "id": "1ed1747c",
   "metadata": {},
   "outputs": [],
   "source": [
    "def main():\n",
    "    divisors = list(range(11, 21))\n",
    "\n",
    "    prime_factors = [get_prime_factors1(divisor) for divisor in divisors]\n",
    "\n",
    "    prime_factors_powers = union_of_prime_factors(prime_factors)\n",
    "\n",
    "    smallest_multiple = 1\n",
    "    for k, v in prime_factors_powers.items():\n",
    "        smallest_multiple *= k**v\n",
    "\n",
    "    return smallest_multiple"
   ]
  },
  {
   "cell_type": "code",
   "execution_count": 8,
   "id": "6185beaf",
   "metadata": {},
   "outputs": [
    {
     "name": "stdout",
     "output_type": "stream",
     "text": [
      "16.4 μs ± 216 ns per loop (mean ± std. dev. of 7 runs, 100,000 loops each)\n"
     ]
    }
   ],
   "source": [
    "%%timeit\n",
    "main()"
   ]
  },
  {
   "cell_type": "code",
   "execution_count": 12,
   "id": "450545d0",
   "metadata": {},
   "outputs": [
    {
     "data": {
      "text/plain": [
       "232792560"
      ]
     },
     "execution_count": 12,
     "metadata": {},
     "output_type": "execute_result"
    }
   ],
   "source": [
    "main()"
   ]
  },
  {
   "cell_type": "markdown",
   "id": "336d17ea",
   "metadata": {},
   "source": [
    "### With optimized libraries"
   ]
  },
  {
   "cell_type": "code",
   "execution_count": 17,
   "id": "4448129a",
   "metadata": {},
   "outputs": [],
   "source": [
    "from sympy import factorint\n",
    "import pandas as pd\n",
    "\n",
    "\n",
    "def main2():\n",
    "    divisors = list(range(11, 21))\n",
    "\n",
    "    _factorintSeries = [pd.Series(factorint(divisor)) for divisor in divisors]\n",
    "    df = pd.concat(_factorintSeries, axis=1).T.fillna(0).astype(int)\n",
    "    max_prime_factors = df.max()\n",
    "    multipliers = max_prime_factors.index**max_prime_factors\n",
    "    return int(multipliers.prod())"
   ]
  },
  {
   "cell_type": "code",
   "execution_count": 15,
   "id": "873785ba",
   "metadata": {},
   "outputs": [
    {
     "name": "stdout",
     "output_type": "stream",
     "text": [
      "2.41 ms ± 153 μs per loop (mean ± std. dev. of 7 runs, 100 loops each)\n"
     ]
    }
   ],
   "source": [
    "%%timeit\n",
    "main2()"
   ]
  },
  {
   "cell_type": "code",
   "execution_count": 18,
   "id": "606c63b0",
   "metadata": {},
   "outputs": [
    {
     "data": {
      "text/plain": [
       "232792560"
      ]
     },
     "execution_count": 18,
     "metadata": {},
     "output_type": "execute_result"
    }
   ],
   "source": [
    "main2()"
   ]
  }
 ],
 "metadata": {
  "kernelspec": {
   "display_name": ".venv",
   "language": "python",
   "name": "python3"
  },
  "language_info": {
   "codemirror_mode": {
    "name": "ipython",
    "version": 3
   },
   "file_extension": ".py",
   "mimetype": "text/x-python",
   "name": "python",
   "nbconvert_exporter": "python",
   "pygments_lexer": "ipython3",
   "version": "3.11.10"
  }
 },
 "nbformat": 4,
 "nbformat_minor": 5
}
