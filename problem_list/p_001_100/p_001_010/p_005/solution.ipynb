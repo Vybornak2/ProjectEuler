{
 "cells": [
  {
   "cell_type": "code",
   "execution_count": 3,
   "id": "e38cd89c",
   "metadata": {},
   "outputs": [
    {
     "data": {
      "text/markdown": [
       "# Problem 5\n",
       "\n",
       "[**Smallest multiple**](https://projecteuler.net/problem=5)\n",
       "\n",
       "## Description:\n",
       "2520 is the smallest number that can be divided by each of the numbers from 1 to 10 without any remainder.\n",
       "\n",
       "## Task:\n",
       "What is the smallest positive number that is evenly divisible by all of the numbers from 1 to 20?\n"
      ],
      "text/plain": [
       "<IPython.core.display.Markdown object>"
      ]
     },
     "metadata": {},
     "output_type": "display_data"
    }
   ],
   "source": [
    "from IPython.display import Markdown, display\n",
    "\n",
    "with open(\"description.md\", \"r\") as file:\n",
    "    md_content = file.read()\n",
    "display(Markdown(md_content))"
   ]
  },
  {
   "cell_type": "markdown",
   "id": "111c6a40",
   "metadata": {},
   "source": [
    "### Without optimized libraries"
   ]
  },
  {
   "cell_type": "code",
   "execution_count": 30,
   "id": "116c76e9",
   "metadata": {},
   "outputs": [],
   "source": [
    "from collections import defaultdict\n",
    "\n",
    "\n",
    "def get_prime_factors1(number):\n",
    "    factors = defaultdict(int)\n",
    "\n",
    "    factor = 2\n",
    "    while number != 1:\n",
    "        if number % factor == 0:\n",
    "            while number % factor == 0:\n",
    "                factors[factor] += 1\n",
    "                number = number // factor\n",
    "        else:\n",
    "            factor += 1\n",
    "    return factors"
   ]
  },
  {
   "cell_type": "code",
   "execution_count": 31,
   "id": "f9cade77",
   "metadata": {},
   "outputs": [],
   "source": [
    "def union_of_prime_factors(prime_factors_counts):\n",
    "    prime_powers = defaultdict(int)\n",
    "    for factor_counts in prime_factors_counts:\n",
    "        for factor, count in factor_counts.items():\n",
    "            prime_powers[factor] = max(prime_powers[factor], count)\n",
    "\n",
    "    return prime_powers"
   ]
  },
  {
   "cell_type": "code",
   "execution_count": 32,
   "id": "1ed1747c",
   "metadata": {},
   "outputs": [
    {
     "name": "stdout",
     "output_type": "stream",
     "text": [
      "232792560\n"
     ]
    }
   ],
   "source": [
    "divisors = list(range(11, 21))\n",
    "\n",
    "prime_factors = [get_prime_factors1(divisor) for divisor in divisors]\n",
    "\n",
    "prime_factors_powers = union_of_prime_factors(prime_factors)\n",
    "\n",
    "smallest_multiple = 1\n",
    "for k, v in prime_factors_powers.items():\n",
    "    smallest_multiple *= k**v\n",
    "\n",
    "print(smallest_multiple)"
   ]
  },
  {
   "cell_type": "markdown",
   "id": "336d17ea",
   "metadata": {},
   "source": [
    "### With optimized libraries"
   ]
  },
  {
   "cell_type": "code",
   "execution_count": 36,
   "id": "4448129a",
   "metadata": {},
   "outputs": [
    {
     "data": {
      "text/html": [
       "<div>\n",
       "<style scoped>\n",
       "    .dataframe tbody tr th:only-of-type {\n",
       "        vertical-align: middle;\n",
       "    }\n",
       "\n",
       "    .dataframe tbody tr th {\n",
       "        vertical-align: top;\n",
       "    }\n",
       "\n",
       "    .dataframe thead th {\n",
       "        text-align: right;\n",
       "    }\n",
       "</style>\n",
       "<table border=\"1\" class=\"dataframe\">\n",
       "  <thead>\n",
       "    <tr style=\"text-align: right;\">\n",
       "      <th></th>\n",
       "      <th>11</th>\n",
       "      <th>2</th>\n",
       "      <th>3</th>\n",
       "      <th>13</th>\n",
       "      <th>7</th>\n",
       "      <th>5</th>\n",
       "      <th>17</th>\n",
       "      <th>19</th>\n",
       "    </tr>\n",
       "  </thead>\n",
       "  <tbody>\n",
       "    <tr>\n",
       "      <th>0</th>\n",
       "      <td>1</td>\n",
       "      <td>0</td>\n",
       "      <td>0</td>\n",
       "      <td>0</td>\n",
       "      <td>0</td>\n",
       "      <td>0</td>\n",
       "      <td>0</td>\n",
       "      <td>0</td>\n",
       "    </tr>\n",
       "    <tr>\n",
       "      <th>1</th>\n",
       "      <td>0</td>\n",
       "      <td>2</td>\n",
       "      <td>1</td>\n",
       "      <td>0</td>\n",
       "      <td>0</td>\n",
       "      <td>0</td>\n",
       "      <td>0</td>\n",
       "      <td>0</td>\n",
       "    </tr>\n",
       "    <tr>\n",
       "      <th>2</th>\n",
       "      <td>0</td>\n",
       "      <td>0</td>\n",
       "      <td>0</td>\n",
       "      <td>1</td>\n",
       "      <td>0</td>\n",
       "      <td>0</td>\n",
       "      <td>0</td>\n",
       "      <td>0</td>\n",
       "    </tr>\n",
       "    <tr>\n",
       "      <th>3</th>\n",
       "      <td>0</td>\n",
       "      <td>1</td>\n",
       "      <td>0</td>\n",
       "      <td>0</td>\n",
       "      <td>1</td>\n",
       "      <td>0</td>\n",
       "      <td>0</td>\n",
       "      <td>0</td>\n",
       "    </tr>\n",
       "    <tr>\n",
       "      <th>4</th>\n",
       "      <td>0</td>\n",
       "      <td>0</td>\n",
       "      <td>1</td>\n",
       "      <td>0</td>\n",
       "      <td>0</td>\n",
       "      <td>1</td>\n",
       "      <td>0</td>\n",
       "      <td>0</td>\n",
       "    </tr>\n",
       "    <tr>\n",
       "      <th>5</th>\n",
       "      <td>0</td>\n",
       "      <td>4</td>\n",
       "      <td>0</td>\n",
       "      <td>0</td>\n",
       "      <td>0</td>\n",
       "      <td>0</td>\n",
       "      <td>0</td>\n",
       "      <td>0</td>\n",
       "    </tr>\n",
       "    <tr>\n",
       "      <th>6</th>\n",
       "      <td>0</td>\n",
       "      <td>0</td>\n",
       "      <td>0</td>\n",
       "      <td>0</td>\n",
       "      <td>0</td>\n",
       "      <td>0</td>\n",
       "      <td>1</td>\n",
       "      <td>0</td>\n",
       "    </tr>\n",
       "    <tr>\n",
       "      <th>7</th>\n",
       "      <td>0</td>\n",
       "      <td>1</td>\n",
       "      <td>2</td>\n",
       "      <td>0</td>\n",
       "      <td>0</td>\n",
       "      <td>0</td>\n",
       "      <td>0</td>\n",
       "      <td>0</td>\n",
       "    </tr>\n",
       "    <tr>\n",
       "      <th>8</th>\n",
       "      <td>0</td>\n",
       "      <td>0</td>\n",
       "      <td>0</td>\n",
       "      <td>0</td>\n",
       "      <td>0</td>\n",
       "      <td>0</td>\n",
       "      <td>0</td>\n",
       "      <td>1</td>\n",
       "    </tr>\n",
       "    <tr>\n",
       "      <th>9</th>\n",
       "      <td>0</td>\n",
       "      <td>2</td>\n",
       "      <td>0</td>\n",
       "      <td>0</td>\n",
       "      <td>0</td>\n",
       "      <td>1</td>\n",
       "      <td>0</td>\n",
       "      <td>0</td>\n",
       "    </tr>\n",
       "  </tbody>\n",
       "</table>\n",
       "</div>"
      ],
      "text/plain": [
       "   11  2   3   13  7   5   17  19\n",
       "0   1   0   0   0   0   0   0   0\n",
       "1   0   2   1   0   0   0   0   0\n",
       "2   0   0   0   1   0   0   0   0\n",
       "3   0   1   0   0   1   0   0   0\n",
       "4   0   0   1   0   0   1   0   0\n",
       "5   0   4   0   0   0   0   0   0\n",
       "6   0   0   0   0   0   0   1   0\n",
       "7   0   1   2   0   0   0   0   0\n",
       "8   0   0   0   0   0   0   0   1\n",
       "9   0   2   0   0   0   1   0   0"
      ]
     },
     "execution_count": 36,
     "metadata": {},
     "output_type": "execute_result"
    }
   ],
   "source": [
    "from sympy import factorint\n",
    "import pandas as pd\n",
    "\n",
    "divisors = list(range(11, 21))\n",
    "\n",
    "_factorintSeries = [pd.Series(factorint(divisor)) for divisor in divisors]\n",
    "df = pd.concat(_factorintSeries, axis=1).T.fillna(0).astype(int)\n",
    "df"
   ]
  },
  {
   "cell_type": "code",
   "execution_count": 37,
   "id": "87992a19",
   "metadata": {},
   "outputs": [
    {
     "data": {
      "text/plain": [
       "11    1\n",
       "2     4\n",
       "3     2\n",
       "13    1\n",
       "7     1\n",
       "5     1\n",
       "17    1\n",
       "19    1\n",
       "dtype: int64"
      ]
     },
     "execution_count": 37,
     "metadata": {},
     "output_type": "execute_result"
    }
   ],
   "source": [
    "max_prime_factors = df.max()\n",
    "max_prime_factors"
   ]
  },
  {
   "cell_type": "code",
   "execution_count": 43,
   "id": "ccde8163",
   "metadata": {},
   "outputs": [
    {
     "data": {
      "text/plain": [
       "np.int64(232792560)"
      ]
     },
     "execution_count": 43,
     "metadata": {},
     "output_type": "execute_result"
    }
   ],
   "source": [
    "multipliers = max_prime_factors.index**max_prime_factors\n",
    "multipliers.prod()"
   ]
  },
  {
   "cell_type": "code",
   "execution_count": null,
   "id": "6d9da881",
   "metadata": {},
   "outputs": [],
   "source": []
  }
 ],
 "metadata": {
  "kernelspec": {
   "display_name": ".venv",
   "language": "python",
   "name": "python3"
  },
  "language_info": {
   "codemirror_mode": {
    "name": "ipython",
    "version": 3
   },
   "file_extension": ".py",
   "mimetype": "text/x-python",
   "name": "python",
   "nbconvert_exporter": "python",
   "pygments_lexer": "ipython3",
   "version": "3.11.10"
  }
 },
 "nbformat": 4,
 "nbformat_minor": 5
}
