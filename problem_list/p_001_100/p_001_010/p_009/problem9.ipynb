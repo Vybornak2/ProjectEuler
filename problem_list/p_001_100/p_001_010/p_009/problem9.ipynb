{
 "cells": [
  {
   "cell_type": "code",
   "execution_count": 1,
   "id": "f87c373e-a915-424c-9fa9-5931c861390f",
   "metadata": {},
   "outputs": [
    {
     "data": {
      "text/plain": [
       "'\\nA Pythagorean triplet is a set of three natural numbers, a < b < c, for which,\\n\\na**2 + b**2 = c**2\\nFor example, 3 ** 2 + 4 ** 2 = 9 + 16 = 25 = 5 ** 2.\\n\\nThere exists exactly one Pythagorean triplet for which a + b + c = 1000.\\nFind the product abc.\\n'"
      ]
     },
     "execution_count": 1,
     "metadata": {},
     "output_type": "execute_result"
    }
   ],
   "source": [
    "\"\"\"\n",
    "A Pythagorean triplet is a set of three natural numbers, a < b < c, for which,\n",
    "\n",
    "a**2 + b**2 = c**2\n",
    "For example, 3 ** 2 + 4 ** 2 = 9 + 16 = 25 = 5 ** 2.\n",
    "\n",
    "There exists exactly one Pythagorean triplet for which a + b + c = 1000.\n",
    "Find the product abc.\n",
    "\"\"\"\n"
   ]
  },
  {
   "cell_type": "code",
   "execution_count": 1,
   "id": "aa650c54-ff30-45fe-81d5-3cec621013ca",
   "metadata": {},
   "outputs": [
    {
     "ename": "NameError",
     "evalue": "name 'c' is not defined",
     "output_type": "error",
     "traceback": [
      "\u001b[1;31m---------------------------------------------------------------------------\u001b[0m",
      "\u001b[1;31mNameError\u001b[0m                                 Traceback (most recent call last)",
      "\u001b[1;32mc:\\Users\\janvy\\Python\\project_euler\\problem9.ipynb Buňka 2\u001b[0m in \u001b[0;36m<cell line: 2>\u001b[1;34m()\u001b[0m\n\u001b[0;32m      <a href='vscode-notebook-cell:/c%3A/Users/janvy/Python/project_euler/problem9.ipynb#ch0000001?line=0'>1</a>\u001b[0m found \u001b[39m=\u001b[39m \u001b[39mFalse\u001b[39;00m\n\u001b[0;32m      <a href='vscode-notebook-cell:/c%3A/Users/janvy/Python/project_euler/problem9.ipynb#ch0000001?line=1'>2</a>\u001b[0m \u001b[39mfor\u001b[39;00m i \u001b[39min\u001b[39;00m \u001b[39mrange\u001b[39m(\u001b[39m334\u001b[39m,\u001b[39m501\u001b[39m):\n\u001b[1;32m----> <a href='vscode-notebook-cell:/c%3A/Users/janvy/Python/project_euler/problem9.ipynb#ch0000001?line=2'>3</a>\u001b[0m     \u001b[39mfor\u001b[39;00m k \u001b[39min\u001b[39;00m \u001b[39mrange\u001b[39m(\u001b[39m1\u001b[39m , c):\n\u001b[0;32m      <a href='vscode-notebook-cell:/c%3A/Users/janvy/Python/project_euler/problem9.ipynb#ch0000001?line=3'>4</a>\u001b[0m         \u001b[39m#print('k=',k)\u001b[39;00m\n\u001b[0;32m      <a href='vscode-notebook-cell:/c%3A/Users/janvy/Python/project_euler/problem9.ipynb#ch0000001?line=4'>5</a>\u001b[0m         c \u001b[39m=\u001b[39m i\n\u001b[0;32m      <a href='vscode-notebook-cell:/c%3A/Users/janvy/Python/project_euler/problem9.ipynb#ch0000001?line=5'>6</a>\u001b[0m         a \u001b[39m=\u001b[39m k\n",
      "\u001b[1;31mNameError\u001b[0m: name 'c' is not defined"
     ]
    }
   ],
   "source": [
    "found = False\n",
    "for i in range(334,501):\n",
    "    for k in range(1 , c):\n",
    "        #print('k=',k)\n",
    "        c = i\n",
    "        a = k\n",
    "        b = 1000 - a - c\n",
    "        if a ** 2 + b ** 2 - c ** 2 == 0:\n",
    "            found = True\n",
    "            break\n",
    "    if found:\n",
    "        break\n",
    "\n",
    "print('strany trojuhelniku: a={}, b={}, c={}' .format(a,b,c))\n",
    "print(a*b*c)\n",
    "            \n",
    "        \n",
    "    \n",
    "    "
   ]
  },
  {
   "cell_type": "code",
   "execution_count": 2,
   "id": "425335cf-1e23-4883-9242-88bbc24198bc",
   "metadata": {},
   "outputs": [
    {
     "name": "stdout",
     "output_type": "stream",
     "text": [
      "False\n"
     ]
    }
   ],
   "source": [
    "print(found)"
   ]
  },
  {
   "cell_type": "code",
   "execution_count": null,
   "id": "30b8b78c-7b72-4ae9-861c-3b0df176dcef",
   "metadata": {},
   "outputs": [],
   "source": []
  }
 ],
 "metadata": {
  "kernelspec": {
   "display_name": "Python 3.10.5 64-bit (windows store)",
   "language": "python",
   "name": "python3"
  },
  "language_info": {
   "codemirror_mode": {
    "name": "ipython",
    "version": 3
   },
   "file_extension": ".py",
   "mimetype": "text/x-python",
   "name": "python",
   "nbconvert_exporter": "python",
   "pygments_lexer": "ipython3",
   "version": "3.10.5"
  },
  "vscode": {
   "interpreter": {
    "hash": "a6bcdcf53b9ee3067982790aa2c97e682ededee60a11df577b97878d369a0d54"
   }
  }
 },
 "nbformat": 4,
 "nbformat_minor": 5
}
