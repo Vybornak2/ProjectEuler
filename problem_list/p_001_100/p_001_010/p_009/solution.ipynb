{
 "cells": [
  {
   "cell_type": "code",
   "execution_count": 1,
   "id": "e38cd89c",
   "metadata": {},
   "outputs": [
    {
     "data": {
      "text/markdown": [
       "# Problem 9\n",
       "\n",
       "[**Special pythagorean triplet**](https://projecteuler.net/problem=9)\n",
       "\n",
       "## Description:\n",
       "A Pythagorean triplet is a set of three natural numbers, $ a < b < c $, for which,\n",
       "$$ a^2 + b^2 = c^2 $$\n",
       "\n",
       "For example:\n",
       "$$ 3^2 + 4^2 = 9 + 16 = 25 = 5^2 $$\n",
       "\n",
       "## Task:\n",
       "There exists exactly one Pythagorean triplet for which a + b + c = 1000.\n",
       "\n",
       "Find the product abc.\n"
      ],
      "text/plain": [
       "<IPython.core.display.Markdown object>"
      ]
     },
     "metadata": {},
     "output_type": "display_data"
    }
   ],
   "source": [
    "from IPython.display import Markdown, display\n",
    "\n",
    "with open(\"describtion.md\", \"r\") as file:\n",
    "    md_content = file.read()\n",
    "display(Markdown(md_content))"
   ]
  },
  {
   "cell_type": "markdown",
   "id": "56e01b75",
   "metadata": {},
   "source": [
    "### Brute-force solution"
   ]
  },
  {
   "cell_type": "code",
   "execution_count": 19,
   "id": "a108200d",
   "metadata": {},
   "outputs": [],
   "source": [
    "from math import prod\n",
    "\n",
    "total = 1000\n",
    "\n",
    "\n",
    "def is_pythagorean_triplet(a, b, c):\n",
    "    return a**2 + b**2 == c**2\n",
    "\n",
    "\n",
    "def find_first_pythagorean_triplet(total):\n",
    "    for i in range(1, total - 2):\n",
    "        for j in range(1, total - i - 1):\n",
    "            k = total - i - j\n",
    "            if is_pythagorean_triplet(i, j, k):\n",
    "                return i, j, k"
   ]
  },
  {
   "cell_type": "code",
   "execution_count": 26,
   "id": "2c42bb12",
   "metadata": {},
   "outputs": [
    {
     "name": "stdout",
     "output_type": "stream",
     "text": [
      "38 ms ± 280 μs per loop (mean ± std. dev. of 7 runs, 10 loops each)\n"
     ]
    }
   ],
   "source": [
    "%%timeit\n",
    "find_first_pythagorean_triplet(total)"
   ]
  },
  {
   "cell_type": "code",
   "execution_count": 27,
   "id": "ba5c2468",
   "metadata": {},
   "outputs": [
    {
     "data": {
      "text/plain": [
       "31875000"
      ]
     },
     "execution_count": 27,
     "metadata": {},
     "output_type": "execute_result"
    }
   ],
   "source": [
    "prod(find_first_pythagorean_triplet(total))"
   ]
  },
  {
   "cell_type": "markdown",
   "id": "e3a908af",
   "metadata": {},
   "source": [
    "### Slightly optimized solution"
   ]
  },
  {
   "cell_type": "code",
   "execution_count": 23,
   "id": "432d43e6",
   "metadata": {},
   "outputs": [],
   "source": [
    "def find_first_pythagorean_triplet2(total):\n",
    "    for a in range(1, total // 3):\n",
    "        for b in range(a + 1, (total - a) // 2):\n",
    "            c = total - a - b\n",
    "            if is_pythagorean_triplet(a, b, c):\n",
    "                return a, b, c"
   ]
  },
  {
   "cell_type": "code",
   "execution_count": 24,
   "id": "83c3518e",
   "metadata": {},
   "outputs": [
    {
     "name": "stdout",
     "output_type": "stream",
     "text": [
      "15.4 ms ± 524 μs per loop (mean ± std. dev. of 7 runs, 100 loops each)\n"
     ]
    }
   ],
   "source": [
    "%%timeit\n",
    "find_first_pythagorean_triplet2(total)"
   ]
  },
  {
   "cell_type": "code",
   "execution_count": 25,
   "id": "717e7785",
   "metadata": {},
   "outputs": [
    {
     "data": {
      "text/plain": [
       "31875000"
      ]
     },
     "execution_count": 25,
     "metadata": {},
     "output_type": "execute_result"
    }
   ],
   "source": [
    "prod(find_first_pythagorean_triplet2(total))"
   ]
  }
 ],
 "metadata": {
  "kernelspec": {
   "display_name": ".venv",
   "language": "python",
   "name": "python3"
  },
  "language_info": {
   "codemirror_mode": {
    "name": "ipython",
    "version": 3
   },
   "file_extension": ".py",
   "mimetype": "text/x-python",
   "name": "python",
   "nbconvert_exporter": "python",
   "pygments_lexer": "ipython3",
   "version": "3.11.10"
  }
 },
 "nbformat": 4,
 "nbformat_minor": 5
}
