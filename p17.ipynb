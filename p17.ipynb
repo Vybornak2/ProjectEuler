{
 "cells": [
  {
   "cell_type": "code",
   "execution_count": null,
   "metadata": {},
   "outputs": [],
   "source": [
    "import numpy as np\n",
    "\n",
    "for i in range(1,1000):\n",
    "    num = str(i)\n",
    "    num_lenght = len(num)\n",
    "    num_name = \"\"\n",
    "    if num_lenght == 4:\n",
    "        num_name = num_name + \"thousand\"\n",
    "    if num_lenght == 3:\n",
    "        num_name = num_name + \"hundred\"\n",
    "    print(num_name)"
   ]
  },
  {
   "cell_type": "code",
   "execution_count": 12,
   "metadata": {},
   "outputs": [
    {
     "ename": "TypeError",
     "evalue": "cannot unpack non-iterable int object",
     "output_type": "error",
     "traceback": [
      "\u001b[1;31m---------------------------------------------------------------------------\u001b[0m",
      "\u001b[1;31mTypeError\u001b[0m                                 Traceback (most recent call last)",
      "\u001b[1;32mc:\\Users\\janvy\\Python\\project_euler\\p17.ipynb Buňka 2\u001b[0m in \u001b[0;36m<cell line: 3>\u001b[1;34m()\u001b[0m\n\u001b[0;32m      <a href='vscode-notebook-cell:/c%3A/Users/janvy/Python/project_euler/p17.ipynb#ch0000001?line=0'>1</a>\u001b[0m \u001b[39mimport\u001b[39;00m \u001b[39mnumpy\u001b[39;00m \u001b[39mas\u001b[39;00m \u001b[39mnp\u001b[39;00m\n\u001b[1;32m----> <a href='vscode-notebook-cell:/c%3A/Users/janvy/Python/project_euler/p17.ipynb#ch0000001?line=2'>3</a>\u001b[0m thousnad, hundred, one, two, three, four, five, six, seven, eight, nine, ten \u001b[39m=\u001b[39m \u001b[39m0\u001b[39m\n\u001b[0;32m      <a href='vscode-notebook-cell:/c%3A/Users/janvy/Python/project_euler/p17.ipynb#ch0000001?line=3'>4</a>\u001b[0m eleven, twelve, thirteen, fourteen, fifteen, seventeen, eighteen, nineteen, twenty \u001b[39m=\u001b[39m \u001b[39m0\u001b[39m\n\u001b[0;32m      <a href='vscode-notebook-cell:/c%3A/Users/janvy/Python/project_euler/p17.ipynb#ch0000001?line=5'>6</a>\u001b[0m \u001b[39mfor\u001b[39;00m i \u001b[39min\u001b[39;00m \u001b[39mrange\u001b[39m(\u001b[39m1\u001b[39m,\u001b[39m1001\u001b[39m):\n\u001b[0;32m      <a href='vscode-notebook-cell:/c%3A/Users/janvy/Python/project_euler/p17.ipynb#ch0000001?line=6'>7</a>\u001b[0m     \u001b[39m#print(i)\u001b[39;00m\n",
      "\u001b[1;31mTypeError\u001b[0m: cannot unpack non-iterable int object"
     ]
    }
   ],
   "source": [
    "import numpy as np\n",
    "\n",
    "count = 0\n",
    "\n",
    "for i in range(1,1001):\n",
    "    #print(i)\n",
    "    num_str = str(i)\n",
    "    num_len = len(i)\n",
    "    if num_len >= 4:\n",
    "        count += 8\n",
    "    if num_len >= 3:\n",
    "        count += 7\n",
    "    if num_len >= 2:\n",
    "\n",
    "    else:\n",
    "        i+=1\n",
    "\n",
    "def nc(number, digit)\n",
    "    if number == 1:\n",
    "        count += 3\n",
    "    elif number == 2:\n",
    "        count += 3\n",
    "    elif number == 3:\n",
    "        count += 5\n",
    "    elif number == 4:\n",
    "        count += 4\n",
    "    elif number == 5:\n",
    "        count += 4\n",
    "    elif number == 6:\n",
    "        count += 3\n",
    "    elif number == 7:\n",
    "        count += 5\n",
    "    elif number == 8:\n",
    "        count += 6\n",
    "    elif number == 9:\n",
    "        count += 4\n",
    "    elif number == 0:\n",
    "        count += 0\n",
    "    \n",
    "\n"
   ]
  }
 ],
 "metadata": {
  "kernelspec": {
   "display_name": "Python 3.10.5 64-bit (windows store)",
   "language": "python",
   "name": "python3"
  },
  "language_info": {
   "codemirror_mode": {
    "name": "ipython",
    "version": 3
   },
   "file_extension": ".py",
   "mimetype": "text/x-python",
   "name": "python",
   "nbconvert_exporter": "python",
   "pygments_lexer": "ipython3",
   "version": "3.10.5"
  },
  "orig_nbformat": 4,
  "vscode": {
   "interpreter": {
    "hash": "a6bcdcf53b9ee3067982790aa2c97e682ededee60a11df577b97878d369a0d54"
   }
  }
 },
 "nbformat": 4,
 "nbformat_minor": 2
}
